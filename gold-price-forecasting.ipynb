{
 "cells": [
  {
   "cell_type": "code",
   "execution_count": 1,
   "id": "0ff9d8b8",
   "metadata": {
    "_cell_guid": "b1076dfc-b9ad-4769-8c92-a6c4dae69d19",
    "_uuid": "8f2839f25d086af736a60e9eeb907d3b93b6e0e5",
    "execution": {
     "iopub.execute_input": "2022-02-10T05:47:03.634511Z",
     "iopub.status.busy": "2022-02-10T05:47:03.633266Z",
     "iopub.status.idle": "2022-02-10T05:47:03.656494Z",
     "shell.execute_reply": "2022-02-10T05:47:03.657423Z"
    },
    "papermill": {
     "duration": 0.076054,
     "end_time": "2022-02-10T05:47:03.657924",
     "exception": false,
     "start_time": "2022-02-10T05:47:03.581870",
     "status": "completed"
    },
    "tags": []
   },
   "outputs": [
    {
     "name": "stdout",
     "output_type": "stream",
     "text": [
      "/kaggle/input/gold-historical-datasets/Gold_Daily .csv\n",
      "/kaggle/input/gold-historical-datasets/Gold_Monthly.csv\n",
      "/kaggle/input/gold-historical-datasets/Gold_Yearly .csv\n",
      "/kaggle/input/gold-daily-csv/Gold data.csv\n"
     ]
    }
   ],
   "source": [
    "# This Python 3 environment comes with many helpful analytics libraries installed\n",
    "# It is defined by the kaggle/python Docker image: https://github.com/kaggle/docker-python\n",
    "# For example, here's several helpful packages to load\n",
    "\n",
    "import numpy as np # linear algebra\n",
    "import pandas as pd # data processing, CSV file I/O (e.g. pd.read_csv)\n",
    "\n",
    "# Input data files are available in the read-only \"../input/\" directory\n",
    "# For example, running this (by clicking run or pressing Shift+Enter) will list all files under the input directory\n",
    "\n",
    "import os\n",
    "for dirname, _, filenames in os.walk('/kaggle/input'):\n",
    "    for filename in filenames:\n",
    "        print(os.path.join(dirname, filename))\n",
    "\n",
    "# You can write up to 20GB to the current directory (/kaggle/working/) that gets preserved as output when you create a version using \"Save & Run All\" \n",
    "# You can also write temporary files to /kaggle/temp/, but they won't be saved outside of the current session"
   ]
  },
  {
   "cell_type": "code",
   "execution_count": 2,
   "id": "8414ee43",
   "metadata": {
    "execution": {
     "iopub.execute_input": "2022-02-10T05:47:03.753906Z",
     "iopub.status.busy": "2022-02-10T05:47:03.753139Z",
     "iopub.status.idle": "2022-02-10T05:47:04.985868Z",
     "shell.execute_reply": "2022-02-10T05:47:04.985122Z",
     "shell.execute_reply.started": "2022-02-10T05:14:06.353651Z"
    },
    "papermill": {
     "duration": 1.281026,
     "end_time": "2022-02-10T05:47:04.986066",
     "exception": false,
     "start_time": "2022-02-10T05:47:03.705040",
     "status": "completed"
    },
    "tags": []
   },
   "outputs": [],
   "source": [
    "# Dependencies\n",
    "import pandas as pd\n",
    "import numpy as np\n",
    "import matplotlib.pyplot as plt\n",
    "import seaborn as sns\n",
    "\n",
    "import warnings\n",
    "warnings.filterwarnings('ignore')"
   ]
  },
  {
   "cell_type": "code",
   "execution_count": 3,
   "id": "3985a336",
   "metadata": {
    "execution": {
     "iopub.execute_input": "2022-02-10T05:47:05.086226Z",
     "iopub.status.busy": "2022-02-10T05:47:05.085362Z",
     "iopub.status.idle": "2022-02-10T05:47:05.119513Z",
     "shell.execute_reply": "2022-02-10T05:47:05.118841Z",
     "shell.execute_reply.started": "2022-02-10T05:22:34.593182Z"
    },
    "papermill": {
     "duration": 0.08575,
     "end_time": "2022-02-10T05:47:05.119860",
     "exception": false,
     "start_time": "2022-02-10T05:47:05.034110",
     "status": "completed"
    },
    "tags": []
   },
   "outputs": [],
   "source": [
    "data = pd.read_csv('../input/gold-historical-datasets/Gold_Daily .csv')"
   ]
  },
  {
   "cell_type": "code",
   "execution_count": 4,
   "id": "2f9e14d2",
   "metadata": {
    "execution": {
     "iopub.execute_input": "2022-02-10T05:47:05.217841Z",
     "iopub.status.busy": "2022-02-10T05:47:05.217071Z",
     "iopub.status.idle": "2022-02-10T05:47:05.225230Z",
     "shell.execute_reply": "2022-02-10T05:47:05.225822Z",
     "shell.execute_reply.started": "2022-02-10T05:22:53.283411Z"
    },
    "papermill": {
     "duration": 0.060896,
     "end_time": "2022-02-10T05:47:05.226032",
     "exception": false,
     "start_time": "2022-02-10T05:47:05.165136",
     "status": "completed"
    },
    "tags": []
   },
   "outputs": [
    {
     "data": {
      "text/plain": [
       "(6886, 7)"
      ]
     },
     "execution_count": 4,
     "metadata": {},
     "output_type": "execute_result"
    }
   ],
   "source": [
    "data.shape"
   ]
  },
  {
   "cell_type": "code",
   "execution_count": 5,
   "id": "a2c24f4b",
   "metadata": {
    "execution": {
     "iopub.execute_input": "2022-02-10T05:47:05.322517Z",
     "iopub.status.busy": "2022-02-10T05:47:05.321698Z",
     "iopub.status.idle": "2022-02-10T05:47:05.353830Z",
     "shell.execute_reply": "2022-02-10T05:47:05.354449Z",
     "shell.execute_reply.started": "2022-02-10T05:23:02.713483Z"
    },
    "papermill": {
     "duration": 0.082362,
     "end_time": "2022-02-10T05:47:05.354683",
     "exception": false,
     "start_time": "2022-02-10T05:47:05.272321",
     "status": "completed"
    },
    "tags": []
   },
   "outputs": [
    {
     "name": "stdout",
     "output_type": "stream",
     "text": [
      "<class 'pandas.core.frame.DataFrame'>\n",
      "RangeIndex: 6886 entries, 0 to 6885\n",
      "Data columns (total 7 columns):\n",
      " #   Column    Non-Null Count  Dtype  \n",
      "---  ------    --------------  -----  \n",
      " 0   Date      6886 non-null   object \n",
      " 1   Price     6886 non-null   float64\n",
      " 2   Open      6886 non-null   float64\n",
      " 3   High      6886 non-null   float64\n",
      " 4   Low       6886 non-null   float64\n",
      " 5   Vol       6886 non-null   object \n",
      " 6   Change %  6886 non-null   float64\n",
      "dtypes: float64(5), object(2)\n",
      "memory usage: 376.7+ KB\n"
     ]
    }
   ],
   "source": [
    "data.info()"
   ]
  },
  {
   "cell_type": "code",
   "execution_count": 6,
   "id": "33d925a6",
   "metadata": {
    "execution": {
     "iopub.execute_input": "2022-02-10T05:47:05.451375Z",
     "iopub.status.busy": "2022-02-10T05:47:05.450639Z",
     "iopub.status.idle": "2022-02-10T05:47:05.484983Z",
     "shell.execute_reply": "2022-02-10T05:47:05.485497Z",
     "shell.execute_reply.started": "2022-02-10T05:23:13.973781Z"
    },
    "papermill": {
     "duration": 0.085169,
     "end_time": "2022-02-10T05:47:05.485724",
     "exception": false,
     "start_time": "2022-02-10T05:47:05.400555",
     "status": "completed"
    },
    "tags": []
   },
   "outputs": [
    {
     "data": {
      "text/html": [
       "<div>\n",
       "<style scoped>\n",
       "    .dataframe tbody tr th:only-of-type {\n",
       "        vertical-align: middle;\n",
       "    }\n",
       "\n",
       "    .dataframe tbody tr th {\n",
       "        vertical-align: top;\n",
       "    }\n",
       "\n",
       "    .dataframe thead th {\n",
       "        text-align: right;\n",
       "    }\n",
       "</style>\n",
       "<table border=\"1\" class=\"dataframe\">\n",
       "  <thead>\n",
       "    <tr style=\"text-align: right;\">\n",
       "      <th></th>\n",
       "      <th>Price</th>\n",
       "      <th>Open</th>\n",
       "      <th>High</th>\n",
       "      <th>Low</th>\n",
       "      <th>Change %</th>\n",
       "    </tr>\n",
       "  </thead>\n",
       "  <tbody>\n",
       "    <tr>\n",
       "      <th>count</th>\n",
       "      <td>6886.000000</td>\n",
       "      <td>6886.000000</td>\n",
       "      <td>6886.000000</td>\n",
       "      <td>6886.000000</td>\n",
       "      <td>6886.000000</td>\n",
       "    </tr>\n",
       "    <tr>\n",
       "      <th>mean</th>\n",
       "      <td>909.824807</td>\n",
       "      <td>906.941624</td>\n",
       "      <td>910.127604</td>\n",
       "      <td>903.469021</td>\n",
       "      <td>0.000309</td>\n",
       "    </tr>\n",
       "    <tr>\n",
       "      <th>std</th>\n",
       "      <td>541.516040</td>\n",
       "      <td>539.071470</td>\n",
       "      <td>541.323158</td>\n",
       "      <td>536.564722</td>\n",
       "      <td>0.012892</td>\n",
       "    </tr>\n",
       "    <tr>\n",
       "      <th>min</th>\n",
       "      <td>253.000000</td>\n",
       "      <td>252.900000</td>\n",
       "      <td>252.900000</td>\n",
       "      <td>252.500000</td>\n",
       "      <td>-0.111300</td>\n",
       "    </tr>\n",
       "    <tr>\n",
       "      <th>25%</th>\n",
       "      <td>376.400000</td>\n",
       "      <td>376.200000</td>\n",
       "      <td>376.700000</td>\n",
       "      <td>375.800000</td>\n",
       "      <td>-0.004500</td>\n",
       "    </tr>\n",
       "    <tr>\n",
       "      <th>50%</th>\n",
       "      <td>890.900000</td>\n",
       "      <td>889.800000</td>\n",
       "      <td>899.700000</td>\n",
       "      <td>883.350000</td>\n",
       "      <td>0.000200</td>\n",
       "    </tr>\n",
       "    <tr>\n",
       "      <th>75%</th>\n",
       "      <td>1359.375000</td>\n",
       "      <td>1349.925000</td>\n",
       "      <td>1352.275000</td>\n",
       "      <td>1347.700000</td>\n",
       "      <td>0.005400</td>\n",
       "    </tr>\n",
       "    <tr>\n",
       "      <th>max</th>\n",
       "      <td>2115.200000</td>\n",
       "      <td>2121.700000</td>\n",
       "      <td>2121.700000</td>\n",
       "      <td>2121.700000</td>\n",
       "      <td>0.127100</td>\n",
       "    </tr>\n",
       "  </tbody>\n",
       "</table>\n",
       "</div>"
      ],
      "text/plain": [
       "             Price         Open         High          Low     Change %\n",
       "count  6886.000000  6886.000000  6886.000000  6886.000000  6886.000000\n",
       "mean    909.824807   906.941624   910.127604   903.469021     0.000309\n",
       "std     541.516040   539.071470   541.323158   536.564722     0.012892\n",
       "min     253.000000   252.900000   252.900000   252.500000    -0.111300\n",
       "25%     376.400000   376.200000   376.700000   375.800000    -0.004500\n",
       "50%     890.900000   889.800000   899.700000   883.350000     0.000200\n",
       "75%    1359.375000  1349.925000  1352.275000  1347.700000     0.005400\n",
       "max    2115.200000  2121.700000  2121.700000  2121.700000     0.127100"
      ]
     },
     "execution_count": 6,
     "metadata": {},
     "output_type": "execute_result"
    }
   ],
   "source": [
    "data.describe()"
   ]
  },
  {
   "cell_type": "code",
   "execution_count": 7,
   "id": "870aa6b0",
   "metadata": {
    "execution": {
     "iopub.execute_input": "2022-02-10T05:47:05.596757Z",
     "iopub.status.busy": "2022-02-10T05:47:05.595735Z",
     "iopub.status.idle": "2022-02-10T05:47:05.600287Z",
     "shell.execute_reply": "2022-02-10T05:47:05.599704Z",
     "shell.execute_reply.started": "2022-02-10T05:23:25.911218Z"
    },
    "papermill": {
     "duration": 0.068377,
     "end_time": "2022-02-10T05:47:05.600482",
     "exception": false,
     "start_time": "2022-02-10T05:47:05.532105",
     "status": "completed"
    },
    "tags": []
   },
   "outputs": [
    {
     "data": {
      "text/html": [
       "<div>\n",
       "<style scoped>\n",
       "    .dataframe tbody tr th:only-of-type {\n",
       "        vertical-align: middle;\n",
       "    }\n",
       "\n",
       "    .dataframe tbody tr th {\n",
       "        vertical-align: top;\n",
       "    }\n",
       "\n",
       "    .dataframe thead th {\n",
       "        text-align: right;\n",
       "    }\n",
       "</style>\n",
       "<table border=\"1\" class=\"dataframe\">\n",
       "  <thead>\n",
       "    <tr style=\"text-align: right;\">\n",
       "      <th></th>\n",
       "      <th>Date</th>\n",
       "      <th>Price</th>\n",
       "      <th>Open</th>\n",
       "      <th>High</th>\n",
       "      <th>Low</th>\n",
       "      <th>Vol</th>\n",
       "      <th>Change %</th>\n",
       "    </tr>\n",
       "  </thead>\n",
       "  <tbody>\n",
       "    <tr>\n",
       "      <th>0</th>\n",
       "      <td>Dec 06, 1994</td>\n",
       "      <td>375.8</td>\n",
       "      <td>375.6</td>\n",
       "      <td>376.5</td>\n",
       "      <td>375.1</td>\n",
       "      <td>0.99K</td>\n",
       "      <td>0.0008</td>\n",
       "    </tr>\n",
       "    <tr>\n",
       "      <th>1</th>\n",
       "      <td>Dec 07, 1994</td>\n",
       "      <td>376.1</td>\n",
       "      <td>377.0</td>\n",
       "      <td>377.5</td>\n",
       "      <td>375.1</td>\n",
       "      <td>1.88K</td>\n",
       "      <td>0.0008</td>\n",
       "    </tr>\n",
       "    <tr>\n",
       "      <th>2</th>\n",
       "      <td>Dec 08, 1994</td>\n",
       "      <td>376.6</td>\n",
       "      <td>375.3</td>\n",
       "      <td>376.7</td>\n",
       "      <td>374.8</td>\n",
       "      <td>0.48K</td>\n",
       "      <td>0.0013</td>\n",
       "    </tr>\n",
       "    <tr>\n",
       "      <th>3</th>\n",
       "      <td>Dec 09, 1994</td>\n",
       "      <td>377.0</td>\n",
       "      <td>375.6</td>\n",
       "      <td>377.0</td>\n",
       "      <td>375.5</td>\n",
       "      <td>0.38K</td>\n",
       "      <td>0.0011</td>\n",
       "    </tr>\n",
       "    <tr>\n",
       "      <th>4</th>\n",
       "      <td>Dec 12, 1994</td>\n",
       "      <td>377.5</td>\n",
       "      <td>376.8</td>\n",
       "      <td>377.8</td>\n",
       "      <td>376.5</td>\n",
       "      <td>0.07K</td>\n",
       "      <td>0.0013</td>\n",
       "    </tr>\n",
       "  </tbody>\n",
       "</table>\n",
       "</div>"
      ],
      "text/plain": [
       "           Date  Price   Open   High    Low    Vol  Change %\n",
       "0  Dec 06, 1994  375.8  375.6  376.5  375.1  0.99K    0.0008\n",
       "1  Dec 07, 1994  376.1  377.0  377.5  375.1  1.88K    0.0008\n",
       "2  Dec 08, 1994  376.6  375.3  376.7  374.8  0.48K    0.0013\n",
       "3  Dec 09, 1994  377.0  375.6  377.0  375.5  0.38K    0.0011\n",
       "4  Dec 12, 1994  377.5  376.8  377.8  376.5  0.07K    0.0013"
      ]
     },
     "execution_count": 7,
     "metadata": {},
     "output_type": "execute_result"
    }
   ],
   "source": [
    "data.head()"
   ]
  },
  {
   "cell_type": "markdown",
   "id": "afda1f19",
   "metadata": {
    "papermill": {
     "duration": 0.046375,
     "end_time": "2022-02-10T05:47:05.694374",
     "exception": false,
     "start_time": "2022-02-10T05:47:05.647999",
     "status": "completed"
    },
    "tags": []
   },
   "source": [
    "2. Pre-Processing Dataset"
   ]
  },
  {
   "cell_type": "code",
   "execution_count": 8,
   "id": "f854d538",
   "metadata": {
    "execution": {
     "iopub.execute_input": "2022-02-10T05:47:05.791603Z",
     "iopub.status.busy": "2022-02-10T05:47:05.790835Z",
     "iopub.status.idle": "2022-02-10T05:47:05.844576Z",
     "shell.execute_reply": "2022-02-10T05:47:05.843799Z",
     "shell.execute_reply.started": "2022-02-10T05:24:42.806606Z"
    },
    "papermill": {
     "duration": 0.103765,
     "end_time": "2022-02-10T05:47:05.844752",
     "exception": false,
     "start_time": "2022-02-10T05:47:05.740987",
     "status": "completed"
    },
    "tags": []
   },
   "outputs": [
    {
     "name": "stdout",
     "output_type": "stream",
     "text": [
      "(6886, 1)\n"
     ]
    },
    {
     "data": {
      "text/html": [
       "<div>\n",
       "<style scoped>\n",
       "    .dataframe tbody tr th:only-of-type {\n",
       "        vertical-align: middle;\n",
       "    }\n",
       "\n",
       "    .dataframe tbody tr th {\n",
       "        vertical-align: top;\n",
       "    }\n",
       "\n",
       "    .dataframe thead th {\n",
       "        text-align: right;\n",
       "    }\n",
       "</style>\n",
       "<table border=\"1\" class=\"dataframe\">\n",
       "  <thead>\n",
       "    <tr style=\"text-align: right;\">\n",
       "      <th></th>\n",
       "      <th>Price</th>\n",
       "    </tr>\n",
       "    <tr>\n",
       "      <th>Date</th>\n",
       "      <th></th>\n",
       "    </tr>\n",
       "  </thead>\n",
       "  <tbody>\n",
       "    <tr>\n",
       "      <th>1994-12-06</th>\n",
       "      <td>375.8</td>\n",
       "    </tr>\n",
       "    <tr>\n",
       "      <th>1994-12-07</th>\n",
       "      <td>376.1</td>\n",
       "    </tr>\n",
       "    <tr>\n",
       "      <th>1994-12-08</th>\n",
       "      <td>376.6</td>\n",
       "    </tr>\n",
       "    <tr>\n",
       "      <th>1994-12-09</th>\n",
       "      <td>377.0</td>\n",
       "    </tr>\n",
       "    <tr>\n",
       "      <th>1994-12-12</th>\n",
       "      <td>377.5</td>\n",
       "    </tr>\n",
       "  </tbody>\n",
       "</table>\n",
       "</div>"
      ],
      "text/plain": [
       "            Price\n",
       "Date             \n",
       "1994-12-06  375.8\n",
       "1994-12-07  376.1\n",
       "1994-12-08  376.6\n",
       "1994-12-09  377.0\n",
       "1994-12-12  377.5"
      ]
     },
     "execution_count": 8,
     "metadata": {},
     "output_type": "execute_result"
    }
   ],
   "source": [
    "data = data[['Date','Price']]\n",
    "data.Date = pd.to_datetime(data.Date, format = '%b %d, %Y')\n",
    "data.set_index('Date',drop = True, inplace = True)\n",
    "print(data.shape)\n",
    "data.head()"
   ]
  },
  {
   "cell_type": "code",
   "execution_count": 9,
   "id": "9a810b1b",
   "metadata": {
    "execution": {
     "iopub.execute_input": "2022-02-10T05:47:05.949759Z",
     "iopub.status.busy": "2022-02-10T05:47:05.948977Z",
     "iopub.status.idle": "2022-02-10T05:47:05.996216Z",
     "shell.execute_reply": "2022-02-10T05:47:05.996785Z",
     "shell.execute_reply.started": "2022-02-10T05:24:54.423087Z"
    },
    "papermill": {
     "duration": 0.104714,
     "end_time": "2022-02-10T05:47:05.996998",
     "exception": false,
     "start_time": "2022-02-10T05:47:05.892284",
     "status": "completed"
    },
    "tags": []
   },
   "outputs": [
    {
     "name": "stdout",
     "output_type": "stream",
     "text": [
      "(9863, 0)\n"
     ]
    },
    {
     "data": {
      "text/html": [
       "<div>\n",
       "<style scoped>\n",
       "    .dataframe tbody tr th:only-of-type {\n",
       "        vertical-align: middle;\n",
       "    }\n",
       "\n",
       "    .dataframe tbody tr th {\n",
       "        vertical-align: top;\n",
       "    }\n",
       "\n",
       "    .dataframe thead th {\n",
       "        text-align: right;\n",
       "    }\n",
       "</style>\n",
       "<table border=\"1\" class=\"dataframe\">\n",
       "  <thead>\n",
       "    <tr style=\"text-align: right;\">\n",
       "      <th></th>\n",
       "    </tr>\n",
       "    <tr>\n",
       "      <th>date</th>\n",
       "    </tr>\n",
       "  </thead>\n",
       "  <tbody>\n",
       "    <tr>\n",
       "      <th>1994-12-06</th>\n",
       "    </tr>\n",
       "    <tr>\n",
       "      <th>1994-12-07</th>\n",
       "    </tr>\n",
       "    <tr>\n",
       "      <th>1994-12-08</th>\n",
       "    </tr>\n",
       "    <tr>\n",
       "      <th>1994-12-09</th>\n",
       "    </tr>\n",
       "    <tr>\n",
       "      <th>1994-12-10</th>\n",
       "    </tr>\n",
       "    <tr>\n",
       "      <th>1994-12-11</th>\n",
       "    </tr>\n",
       "    <tr>\n",
       "      <th>1994-12-12</th>\n",
       "    </tr>\n",
       "    <tr>\n",
       "      <th>1994-12-13</th>\n",
       "    </tr>\n",
       "    <tr>\n",
       "      <th>1994-12-14</th>\n",
       "    </tr>\n",
       "    <tr>\n",
       "      <th>1994-12-15</th>\n",
       "    </tr>\n",
       "  </tbody>\n",
       "</table>\n",
       "</div>"
      ],
      "text/plain": [
       "Empty DataFrame\n",
       "Columns: []\n",
       "Index: [1994-12-06 00:00:00, 1994-12-07 00:00:00, 1994-12-08 00:00:00, 1994-12-09 00:00:00, 1994-12-10 00:00:00, 1994-12-11 00:00:00, 1994-12-12 00:00:00, 1994-12-13 00:00:00, 1994-12-14 00:00:00, 1994-12-15 00:00:00]"
      ]
     },
     "execution_count": 9,
     "metadata": {},
     "output_type": "execute_result"
    }
   ],
   "source": [
    "import datetime\n",
    "#from datetime import timedate\n",
    "\n",
    "base = datetime.datetime(data.index.min().year, data.index.min().month, data.index.min().day)\n",
    "arr = np.array([base + datetime.timedelta(days = i) for i in range((data.index.max() - data.index.min()).days+1)])\n",
    "data_temp = pd.DataFrame(arr, columns=['date']).set_index('date', drop=True)\n",
    "print(data_temp.shape)\n",
    "data_temp.head(10)"
   ]
  },
  {
   "cell_type": "code",
   "execution_count": 10,
   "id": "12f0d3dd",
   "metadata": {
    "execution": {
     "iopub.execute_input": "2022-02-10T05:47:06.100932Z",
     "iopub.status.busy": "2022-02-10T05:47:06.100147Z",
     "iopub.status.idle": "2022-02-10T05:47:06.119093Z",
     "shell.execute_reply": "2022-02-10T05:47:06.119800Z",
     "shell.execute_reply.started": "2022-02-10T05:25:06.623017Z"
    },
    "papermill": {
     "duration": 0.07458,
     "end_time": "2022-02-10T05:47:06.120017",
     "exception": false,
     "start_time": "2022-02-10T05:47:06.045437",
     "status": "completed"
    },
    "tags": []
   },
   "outputs": [
    {
     "name": "stdout",
     "output_type": "stream",
     "text": [
      "       key_0  Price\n",
      "0 1994-12-06  375.8\n",
      "1 1994-12-07  376.1\n",
      "2 1994-12-08  376.6\n",
      "3 1994-12-09  377.0\n",
      "4 1994-12-10    NaN\n",
      "5 1994-12-11    NaN\n",
      "6 1994-12-12  377.5\n",
      "7 1994-12-13  377.6\n",
      "8 1994-12-14  378.9\n",
      "9 1994-12-15  380.2\n"
     ]
    }
   ],
   "source": [
    "data = pd.merge(left=data_temp, right=data,\n",
    "                     left_on=data_temp.index, right_on=data.index,\n",
    "                     how='left')\n",
    "print(data.head(10))\n",
    "data.set_index('key_0', drop=True, inplace=True)"
   ]
  },
  {
   "cell_type": "code",
   "execution_count": 11,
   "id": "5cb3dbba",
   "metadata": {
    "execution": {
     "iopub.execute_input": "2022-02-10T05:47:06.225141Z",
     "iopub.status.busy": "2022-02-10T05:47:06.224285Z",
     "iopub.status.idle": "2022-02-10T05:47:06.227262Z",
     "shell.execute_reply": "2022-02-10T05:47:06.226710Z",
     "shell.execute_reply.started": "2022-02-10T05:25:42.494356Z"
    },
    "papermill": {
     "duration": 0.059181,
     "end_time": "2022-02-10T05:47:06.227443",
     "exception": false,
     "start_time": "2022-02-10T05:47:06.168262",
     "status": "completed"
    },
    "tags": []
   },
   "outputs": [],
   "source": [
    "data.fillna(method = 'ffill',inplace = True)"
   ]
  },
  {
   "cell_type": "code",
   "execution_count": 12,
   "id": "2e0d7939",
   "metadata": {
    "execution": {
     "iopub.execute_input": "2022-02-10T05:47:06.329221Z",
     "iopub.status.busy": "2022-02-10T05:47:06.328491Z",
     "iopub.status.idle": "2022-02-10T05:47:06.344129Z",
     "shell.execute_reply": "2022-02-10T05:47:06.342991Z",
     "shell.execute_reply.started": "2022-02-10T05:25:59.914559Z"
    },
    "papermill": {
     "duration": 0.068218,
     "end_time": "2022-02-10T05:47:06.344376",
     "exception": false,
     "start_time": "2022-02-10T05:47:06.276158",
     "status": "completed"
    },
    "tags": []
   },
   "outputs": [
    {
     "name": "stdout",
     "output_type": "stream",
     "text": [
      "<class 'pandas.core.frame.DataFrame'>\n",
      "DatetimeIndex: 9863 entries, 1994-12-06 to 2021-12-06\n",
      "Data columns (total 1 columns):\n",
      " #   Column  Non-Null Count  Dtype  \n",
      "---  ------  --------------  -----  \n",
      " 0   Price   9863 non-null   float64\n",
      "dtypes: float64(1)\n",
      "memory usage: 154.1 KB\n"
     ]
    }
   ],
   "source": [
    "data.info()"
   ]
  },
  {
   "cell_type": "code",
   "execution_count": 13,
   "id": "e71f5225",
   "metadata": {
    "execution": {
     "iopub.execute_input": "2022-02-10T05:47:06.454266Z",
     "iopub.status.busy": "2022-02-10T05:47:06.453482Z",
     "iopub.status.idle": "2022-02-10T05:47:06.456222Z",
     "shell.execute_reply": "2022-02-10T05:47:06.456851Z",
     "shell.execute_reply.started": "2022-02-10T05:26:31.943419Z"
    },
    "papermill": {
     "duration": 0.06299,
     "end_time": "2022-02-10T05:47:06.457050",
     "exception": false,
     "start_time": "2022-02-10T05:47:06.394060",
     "status": "completed"
    },
    "tags": []
   },
   "outputs": [
    {
     "data": {
      "text/html": [
       "<div>\n",
       "<style scoped>\n",
       "    .dataframe tbody tr th:only-of-type {\n",
       "        vertical-align: middle;\n",
       "    }\n",
       "\n",
       "    .dataframe tbody tr th {\n",
       "        vertical-align: top;\n",
       "    }\n",
       "\n",
       "    .dataframe thead th {\n",
       "        text-align: right;\n",
       "    }\n",
       "</style>\n",
       "<table border=\"1\" class=\"dataframe\">\n",
       "  <thead>\n",
       "    <tr style=\"text-align: right;\">\n",
       "      <th></th>\n",
       "      <th>Price</th>\n",
       "    </tr>\n",
       "    <tr>\n",
       "      <th>key_0</th>\n",
       "      <th></th>\n",
       "    </tr>\n",
       "  </thead>\n",
       "  <tbody>\n",
       "    <tr>\n",
       "      <th>1994-12-06</th>\n",
       "      <td>375.8</td>\n",
       "    </tr>\n",
       "    <tr>\n",
       "      <th>1994-12-07</th>\n",
       "      <td>376.1</td>\n",
       "    </tr>\n",
       "    <tr>\n",
       "      <th>1994-12-08</th>\n",
       "      <td>376.6</td>\n",
       "    </tr>\n",
       "    <tr>\n",
       "      <th>1994-12-09</th>\n",
       "      <td>377.0</td>\n",
       "    </tr>\n",
       "    <tr>\n",
       "      <th>1994-12-10</th>\n",
       "      <td>377.0</td>\n",
       "    </tr>\n",
       "  </tbody>\n",
       "</table>\n",
       "</div>"
      ],
      "text/plain": [
       "            Price\n",
       "key_0            \n",
       "1994-12-06  375.8\n",
       "1994-12-07  376.1\n",
       "1994-12-08  376.6\n",
       "1994-12-09  377.0\n",
       "1994-12-10  377.0"
      ]
     },
     "execution_count": 13,
     "metadata": {},
     "output_type": "execute_result"
    }
   ],
   "source": [
    "data.head()"
   ]
  },
  {
   "cell_type": "code",
   "execution_count": 14,
   "id": "ae306521",
   "metadata": {
    "execution": {
     "iopub.execute_input": "2022-02-10T05:47:06.561673Z",
     "iopub.status.busy": "2022-02-10T05:47:06.560821Z",
     "iopub.status.idle": "2022-02-10T05:47:06.898773Z",
     "shell.execute_reply": "2022-02-10T05:47:06.899383Z",
     "shell.execute_reply.started": "2022-02-10T05:26:41.383392Z"
    },
    "papermill": {
     "duration": 0.393089,
     "end_time": "2022-02-10T05:47:06.899605",
     "exception": false,
     "start_time": "2022-02-10T05:47:06.506516",
     "status": "completed"
    },
    "tags": []
   },
   "outputs": [
    {
     "data": {
      "text/plain": [
       "[<matplotlib.lines.Line2D at 0x7f4cf1ad8d90>]"
      ]
     },
     "execution_count": 14,
     "metadata": {},
     "output_type": "execute_result"
    },
    {
     "data": {
      "image/png": "[encoded data removed]",
      "text/plain": [
       "<Figure size 432x288 with 1 Axes>"
      ]
     },
     "metadata": {
      "needs_background": "light"
     },
     "output_type": "display_data"
    }
   ],
   "source": [
    "plt.plot(data)"
   ]
  },
  {
   "cell_type": "markdown",
   "id": "3f5c67d5",
   "metadata": {
    "papermill": {
     "duration": 0.050675,
     "end_time": "2022-02-10T05:47:07.002167",
     "exception": false,
     "start_time": "2022-02-10T05:47:06.951492",
     "status": "completed"
    },
    "tags": []
   },
   "source": [
    "3. Time Series Analysis\n",
    "Outlier Detection"
   ]
  },
  {
   "cell_type": "code",
   "execution_count": 15,
   "id": "fe248950",
   "metadata": {
    "execution": {
     "iopub.execute_input": "2022-02-10T05:47:07.113265Z",
     "iopub.status.busy": "2022-02-10T05:47:07.112004Z",
     "iopub.status.idle": "2022-02-10T05:47:07.292291Z",
     "shell.execute_reply": "2022-02-10T05:47:07.293097Z",
     "shell.execute_reply.started": "2022-02-10T05:27:36.822844Z"
    },
    "papermill": {
     "duration": 0.240042,
     "end_time": "2022-02-10T05:47:07.293329",
     "exception": false,
     "start_time": "2022-02-10T05:47:07.053287",
     "status": "completed"
    },
    "tags": []
   },
   "outputs": [
    {
     "data": {
      "image/png": "[encoded data removed]",
      "text/plain": [
       "<Figure size 864x144 with 1 Axes>"
      ]
     },
     "metadata": {
      "needs_background": "light"
     },
     "output_type": "display_data"
    }
   ],
   "source": [
    "# Box PLot\n",
    "fig = plt.subplots(figsize = (12, 2))\n",
    "ax = sns.boxplot(x = data['Price'], whis = 1.5)"
   ]
  },
  {
   "cell_type": "code",
   "execution_count": 16,
   "id": "5380ab6f",
   "metadata": {
    "execution": {
     "iopub.execute_input": "2022-02-10T05:47:07.400943Z",
     "iopub.status.busy": "2022-02-10T05:47:07.400182Z",
     "iopub.status.idle": "2022-02-10T05:47:07.680380Z",
     "shell.execute_reply": "2022-02-10T05:47:07.679831Z",
     "shell.execute_reply.started": "2022-02-10T05:27:46.362086Z"
    },
    "papermill": {
     "duration": 0.335672,
     "end_time": "2022-02-10T05:47:07.680560",
     "exception": false,
     "start_time": "2022-02-10T05:47:07.344888",
     "status": "completed"
    },
    "tags": []
   },
   "outputs": [
    {
     "data": {
      "image/png": "[encoded data removed]",
      "text/plain": [
       "<Figure size 864x288 with 1 Axes>"
      ]
     },
     "metadata": {
      "needs_background": "light"
     },
     "output_type": "display_data"
    }
   ],
   "source": [
    "# Histogram\n",
    "fig = data['Price'].hist(figsize = (12, 4))"
   ]
  },
  {
   "cell_type": "markdown",
   "id": "f9392ccc",
   "metadata": {
    "papermill": {
     "duration": 0.051986,
     "end_time": "2022-02-10T05:47:07.784466",
     "exception": false,
     "start_time": "2022-02-10T05:47:07.732480",
     "status": "completed"
    },
    "tags": []
   },
   "source": [
    "4. Time Series Forecasting"
   ]
  },
  {
   "cell_type": "code",
   "execution_count": 17,
   "id": "74491093",
   "metadata": {
    "execution": {
     "iopub.execute_input": "2022-02-10T05:47:07.891956Z",
     "iopub.status.busy": "2022-02-10T05:47:07.891303Z",
     "iopub.status.idle": "2022-02-10T05:47:07.897210Z",
     "shell.execute_reply": "2022-02-10T05:47:07.896464Z",
     "shell.execute_reply.started": "2022-02-10T05:28:39.743616Z"
    },
    "papermill": {
     "duration": 0.060848,
     "end_time": "2022-02-10T05:47:07.897378",
     "exception": false,
     "start_time": "2022-02-10T05:47:07.836530",
     "status": "completed"
    },
    "tags": []
   },
   "outputs": [],
   "source": [
    "# Train-Test split\n",
    "\n",
    "train_len = int(data.shape[0]*0.80)\n",
    "train = data[0:train_len] \n",
    "test = data[train_len:] "
   ]
  },
  {
   "cell_type": "code",
   "execution_count": 18,
   "id": "7797519c",
   "metadata": {
    "execution": {
     "iopub.execute_input": "2022-02-10T05:47:08.006805Z",
     "iopub.status.busy": "2022-02-10T05:47:08.005954Z",
     "iopub.status.idle": "2022-02-10T05:47:08.018953Z",
     "shell.execute_reply": "2022-02-10T05:47:08.019512Z",
     "shell.execute_reply.started": "2022-02-10T05:28:56.492585Z"
    },
    "papermill": {
     "duration": 0.069575,
     "end_time": "2022-02-10T05:47:08.019717",
     "exception": false,
     "start_time": "2022-02-10T05:47:07.950142",
     "status": "completed"
    },
    "tags": []
   },
   "outputs": [
    {
     "data": {
      "text/html": [
       "<div>\n",
       "<style scoped>\n",
       "    .dataframe tbody tr th:only-of-type {\n",
       "        vertical-align: middle;\n",
       "    }\n",
       "\n",
       "    .dataframe tbody tr th {\n",
       "        vertical-align: top;\n",
       "    }\n",
       "\n",
       "    .dataframe thead th {\n",
       "        text-align: right;\n",
       "    }\n",
       "</style>\n",
       "<table border=\"1\" class=\"dataframe\">\n",
       "  <thead>\n",
       "    <tr style=\"text-align: right;\">\n",
       "      <th></th>\n",
       "      <th>Price</th>\n",
       "    </tr>\n",
       "    <tr>\n",
       "      <th>key_0</th>\n",
       "      <th></th>\n",
       "    </tr>\n",
       "  </thead>\n",
       "  <tbody>\n",
       "    <tr>\n",
       "      <th>1994-12-06</th>\n",
       "      <td>375.8</td>\n",
       "    </tr>\n",
       "    <tr>\n",
       "      <th>1994-12-07</th>\n",
       "      <td>376.1</td>\n",
       "    </tr>\n",
       "    <tr>\n",
       "      <th>1994-12-08</th>\n",
       "      <td>376.6</td>\n",
       "    </tr>\n",
       "    <tr>\n",
       "      <th>1994-12-09</th>\n",
       "      <td>377.0</td>\n",
       "    </tr>\n",
       "    <tr>\n",
       "      <th>1994-12-10</th>\n",
       "      <td>377.0</td>\n",
       "    </tr>\n",
       "    <tr>\n",
       "      <th>...</th>\n",
       "      <td>...</td>\n",
       "    </tr>\n",
       "    <tr>\n",
       "      <th>2016-07-08</th>\n",
       "      <td>1412.0</td>\n",
       "    </tr>\n",
       "    <tr>\n",
       "      <th>2016-07-09</th>\n",
       "      <td>1412.0</td>\n",
       "    </tr>\n",
       "    <tr>\n",
       "      <th>2016-07-10</th>\n",
       "      <td>1412.0</td>\n",
       "    </tr>\n",
       "    <tr>\n",
       "      <th>2016-07-11</th>\n",
       "      <td>1411.3</td>\n",
       "    </tr>\n",
       "    <tr>\n",
       "      <th>2016-07-12</th>\n",
       "      <td>1390.7</td>\n",
       "    </tr>\n",
       "  </tbody>\n",
       "</table>\n",
       "<p>7890 rows × 1 columns</p>\n",
       "</div>"
      ],
      "text/plain": [
       "             Price\n",
       "key_0             \n",
       "1994-12-06   375.8\n",
       "1994-12-07   376.1\n",
       "1994-12-08   376.6\n",
       "1994-12-09   377.0\n",
       "1994-12-10   377.0\n",
       "...            ...\n",
       "2016-07-08  1412.0\n",
       "2016-07-09  1412.0\n",
       "2016-07-10  1412.0\n",
       "2016-07-11  1411.3\n",
       "2016-07-12  1390.7\n",
       "\n",
       "[7890 rows x 1 columns]"
      ]
     },
     "execution_count": 18,
     "metadata": {},
     "output_type": "execute_result"
    }
   ],
   "source": [
    "train"
   ]
  },
  {
   "cell_type": "code",
   "execution_count": 19,
   "id": "50127ace",
   "metadata": {
    "execution": {
     "iopub.execute_input": "2022-02-10T05:47:08.131768Z",
     "iopub.status.busy": "2022-02-10T05:47:08.131004Z",
     "iopub.status.idle": "2022-02-10T05:47:08.144694Z",
     "shell.execute_reply": "2022-02-10T05:47:08.143995Z",
     "shell.execute_reply.started": "2022-02-10T05:29:05.53063Z"
    },
    "papermill": {
     "duration": 0.07052,
     "end_time": "2022-02-10T05:47:08.144856",
     "exception": false,
     "start_time": "2022-02-10T05:47:08.074336",
     "status": "completed"
    },
    "tags": []
   },
   "outputs": [
    {
     "data": {
      "text/html": [
       "<div>\n",
       "<style scoped>\n",
       "    .dataframe tbody tr th:only-of-type {\n",
       "        vertical-align: middle;\n",
       "    }\n",
       "\n",
       "    .dataframe tbody tr th {\n",
       "        vertical-align: top;\n",
       "    }\n",
       "\n",
       "    .dataframe thead th {\n",
       "        text-align: right;\n",
       "    }\n",
       "</style>\n",
       "<table border=\"1\" class=\"dataframe\">\n",
       "  <thead>\n",
       "    <tr style=\"text-align: right;\">\n",
       "      <th></th>\n",
       "      <th>Price</th>\n",
       "    </tr>\n",
       "    <tr>\n",
       "      <th>key_0</th>\n",
       "      <th></th>\n",
       "    </tr>\n",
       "  </thead>\n",
       "  <tbody>\n",
       "    <tr>\n",
       "      <th>2016-07-13</th>\n",
       "      <td>1399.00</td>\n",
       "    </tr>\n",
       "    <tr>\n",
       "      <th>2016-07-14</th>\n",
       "      <td>1387.70</td>\n",
       "    </tr>\n",
       "    <tr>\n",
       "      <th>2016-07-15</th>\n",
       "      <td>1383.50</td>\n",
       "    </tr>\n",
       "    <tr>\n",
       "      <th>2016-07-16</th>\n",
       "      <td>1383.50</td>\n",
       "    </tr>\n",
       "    <tr>\n",
       "      <th>2016-07-17</th>\n",
       "      <td>1383.50</td>\n",
       "    </tr>\n",
       "    <tr>\n",
       "      <th>...</th>\n",
       "      <td>...</td>\n",
       "    </tr>\n",
       "    <tr>\n",
       "      <th>2021-12-02</th>\n",
       "      <td>1762.70</td>\n",
       "    </tr>\n",
       "    <tr>\n",
       "      <th>2021-12-03</th>\n",
       "      <td>1783.90</td>\n",
       "    </tr>\n",
       "    <tr>\n",
       "      <th>2021-12-04</th>\n",
       "      <td>1783.90</td>\n",
       "    </tr>\n",
       "    <tr>\n",
       "      <th>2021-12-05</th>\n",
       "      <td>1783.80</td>\n",
       "    </tr>\n",
       "    <tr>\n",
       "      <th>2021-12-06</th>\n",
       "      <td>1778.65</td>\n",
       "    </tr>\n",
       "  </tbody>\n",
       "</table>\n",
       "<p>1973 rows × 1 columns</p>\n",
       "</div>"
      ],
      "text/plain": [
       "              Price\n",
       "key_0              \n",
       "2016-07-13  1399.00\n",
       "2016-07-14  1387.70\n",
       "2016-07-15  1383.50\n",
       "2016-07-16  1383.50\n",
       "2016-07-17  1383.50\n",
       "...             ...\n",
       "2021-12-02  1762.70\n",
       "2021-12-03  1783.90\n",
       "2021-12-04  1783.90\n",
       "2021-12-05  1783.80\n",
       "2021-12-06  1778.65\n",
       "\n",
       "[1973 rows x 1 columns]"
      ]
     },
     "execution_count": 19,
     "metadata": {},
     "output_type": "execute_result"
    }
   ],
   "source": [
    "test"
   ]
  },
  {
   "cell_type": "markdown",
   "id": "db4148bd",
   "metadata": {
    "papermill": {
     "duration": 0.05383,
     "end_time": "2022-02-10T05:47:08.251598",
     "exception": false,
     "start_time": "2022-02-10T05:47:08.197768",
     "status": "completed"
    },
    "tags": []
   },
   "source": [
    "Comparing Different Time Series Forecasting Methods"
   ]
  },
  {
   "cell_type": "markdown",
   "id": "8bf57b45",
   "metadata": {
    "papermill": {
     "duration": 0.052823,
     "end_time": "2022-02-10T05:47:08.359532",
     "exception": false,
     "start_time": "2022-02-10T05:47:08.306709",
     "status": "completed"
    },
    "tags": []
   },
   "source": [
    "4.1. Naive Method"
   ]
  },
  {
   "cell_type": "code",
   "execution_count": 20,
   "id": "583a896a",
   "metadata": {
    "execution": {
     "iopub.execute_input": "2022-02-10T05:47:08.469568Z",
     "iopub.status.busy": "2022-02-10T05:47:08.468867Z",
     "iopub.status.idle": "2022-02-10T05:47:08.479640Z",
     "shell.execute_reply": "2022-02-10T05:47:08.478966Z",
     "shell.execute_reply.started": "2022-02-10T05:29:58.884361Z"
    },
    "papermill": {
     "duration": 0.06724,
     "end_time": "2022-02-10T05:47:08.479821",
     "exception": false,
     "start_time": "2022-02-10T05:47:08.412581",
     "status": "completed"
    },
    "tags": []
   },
   "outputs": [],
   "source": [
    "# Mapping to previous value\n",
    "y_hat_naive = test.copy()\n",
    "y_hat_naive['naive_forecast'] = train['Price'][train_len - 1]"
   ]
  },
  {
   "cell_type": "code",
   "execution_count": 21,
   "id": "1ca78f5f",
   "metadata": {
    "execution": {
     "iopub.execute_input": "2022-02-10T05:47:08.600178Z",
     "iopub.status.busy": "2022-02-10T05:47:08.599445Z",
     "iopub.status.idle": "2022-02-10T05:47:08.905418Z",
     "shell.execute_reply": "2022-02-10T05:47:08.904746Z",
     "shell.execute_reply.started": "2022-02-10T05:30:08.933285Z"
    },
    "papermill": {
     "duration": 0.372662,
     "end_time": "2022-02-10T05:47:08.905588",
     "exception": false,
     "start_time": "2022-02-10T05:47:08.532926",
     "status": "completed"
    },
    "tags": []
   },
   "outputs": [
    {
     "data": {
      "image/png": "[encoded data removed]",
      "text/plain": [
       "<Figure size 864x288 with 1 Axes>"
      ]
     },
     "metadata": {
      "needs_background": "light"
     },
     "output_type": "display_data"
    }
   ],
   "source": [
    "# plotting\n",
    "plt.figure(figsize = (12, 4))\n",
    "plt.plot(train['Price'], label = 'Train')\n",
    "plt.plot(test['Price'], label = 'Test')\n",
    "plt.plot(y_hat_naive['naive_forecast'], label = 'Naive Forecast')\n",
    "plt.legend(loc = 'best')\n",
    "plt.title('Naive Method')\n",
    "plt.show()"
   ]
  },
  {
   "cell_type": "code",
   "execution_count": 22,
   "id": "27df98b0",
   "metadata": {
    "execution": {
     "iopub.execute_input": "2022-02-10T05:47:09.021654Z",
     "iopub.status.busy": "2022-02-10T05:47:09.020900Z",
     "iopub.status.idle": "2022-02-10T05:47:09.227972Z",
     "shell.execute_reply": "2022-02-10T05:47:09.227319Z",
     "shell.execute_reply.started": "2022-02-10T05:30:25.241532Z"
    },
    "papermill": {
     "duration": 0.267544,
     "end_time": "2022-02-10T05:47:09.228135",
     "exception": false,
     "start_time": "2022-02-10T05:47:08.960591",
     "status": "completed"
    },
    "tags": []
   },
   "outputs": [
    {
     "data": {
      "text/html": [
       "<div>\n",
       "<style scoped>\n",
       "    .dataframe tbody tr th:only-of-type {\n",
       "        vertical-align: middle;\n",
       "    }\n",
       "\n",
       "    .dataframe tbody tr th {\n",
       "        vertical-align: top;\n",
       "    }\n",
       "\n",
       "    .dataframe thead th {\n",
       "        text-align: right;\n",
       "    }\n",
       "</style>\n",
       "<table border=\"1\" class=\"dataframe\">\n",
       "  <thead>\n",
       "    <tr style=\"text-align: right;\">\n",
       "      <th></th>\n",
       "      <th>Method</th>\n",
       "      <th>RMSE</th>\n",
       "      <th>MAPE</th>\n",
       "    </tr>\n",
       "  </thead>\n",
       "  <tbody>\n",
       "    <tr>\n",
       "      <th>0</th>\n",
       "      <td>Naive method</td>\n",
       "      <td>265.47</td>\n",
       "      <td>11.36</td>\n",
       "    </tr>\n",
       "  </tbody>\n",
       "</table>\n",
       "</div>"
      ],
      "text/plain": [
       "         Method    RMSE   MAPE\n",
       "0  Naive method  265.47  11.36"
      ]
     },
     "execution_count": 22,
     "metadata": {},
     "output_type": "execute_result"
    }
   ],
   "source": [
    "# Calculate RMSE and MAPE\n",
    "from sklearn.metrics import mean_squared_error\n",
    "\n",
    "rmse = np.sqrt(mean_squared_error(test['Price'], y_hat_naive['naive_forecast'])).round(2)\n",
    "mape = np.round(np.mean(np.abs(test['Price']-y_hat_naive['naive_forecast'])/test['Price'])*100,2)\n",
    "\n",
    "results = pd.DataFrame({'Method':['Naive method'], 'MAPE': [mape], 'RMSE': [rmse]})\n",
    "results = results[['Method', 'RMSE', 'MAPE']]\n",
    "results"
   ]
  },
  {
   "cell_type": "code",
   "execution_count": 23,
   "id": "2bb54174",
   "metadata": {
    "execution": {
     "iopub.execute_input": "2022-02-10T05:47:09.345448Z",
     "iopub.status.busy": "2022-02-10T05:47:09.344336Z",
     "iopub.status.idle": "2022-02-10T05:47:09.350830Z",
     "shell.execute_reply": "2022-02-10T05:47:09.351345Z",
     "shell.execute_reply.started": "2022-02-10T05:30:55.013335Z"
    },
    "papermill": {
     "duration": 0.066421,
     "end_time": "2022-02-10T05:47:09.351584",
     "exception": false,
     "start_time": "2022-02-10T05:47:09.285163",
     "status": "completed"
    },
    "tags": []
   },
   "outputs": [],
   "source": [
    "# 4.2. Simple Average Method\n",
    "y_hat_avg = test.copy()\n",
    "y_hat_avg['avg_forecast'] = train['Price'].mean()"
   ]
  },
  {
   "cell_type": "code",
   "execution_count": 24,
   "id": "1f6c1404",
   "metadata": {
    "execution": {
     "iopub.execute_input": "2022-02-10T05:47:09.465757Z",
     "iopub.status.busy": "2022-02-10T05:47:09.464671Z",
     "iopub.status.idle": "2022-02-10T05:47:09.773022Z",
     "shell.execute_reply": "2022-02-10T05:47:09.773560Z",
     "shell.execute_reply.started": "2022-02-10T05:31:03.363829Z"
    },
    "papermill": {
     "duration": 0.36738,
     "end_time": "2022-02-10T05:47:09.773759",
     "exception": false,
     "start_time": "2022-02-10T05:47:09.406379",
     "status": "completed"
    },
    "tags": []
   },
   "outputs": [
    {
     "data": {
      "image/png": "[encoded data removed]",
      "text/plain": [
       "<Figure size 864x288 with 1 Axes>"
      ]
     },
     "metadata": {
      "needs_background": "light"
     },
     "output_type": "display_data"
    }
   ],
   "source": [
    "# Plotting\n",
    "plt.figure(figsize=(12,4))\n",
    "plt.plot(train['Price'], label='Train')\n",
    "plt.plot(test['Price'], label='Test')\n",
    "plt.plot(y_hat_avg['avg_forecast'], label='Simple average forecast')\n",
    "plt.legend(loc='best')\n",
    "plt.title('Simple Average Method')\n",
    "plt.show()"
   ]
  },
  {
   "cell_type": "code",
   "execution_count": 25,
   "id": "ebbd56a5",
   "metadata": {
    "execution": {
     "iopub.execute_input": "2022-02-10T05:47:09.889830Z",
     "iopub.status.busy": "2022-02-10T05:47:09.888784Z",
     "iopub.status.idle": "2022-02-10T05:47:09.906480Z",
     "shell.execute_reply": "2022-02-10T05:47:09.907000Z",
     "shell.execute_reply.started": "2022-02-10T05:31:13.643972Z"
    },
    "papermill": {
     "duration": 0.077518,
     "end_time": "2022-02-10T05:47:09.907223",
     "exception": false,
     "start_time": "2022-02-10T05:47:09.829705",
     "status": "completed"
    },
    "tags": []
   },
   "outputs": [
    {
     "data": {
      "text/html": [
       "<div>\n",
       "<style scoped>\n",
       "    .dataframe tbody tr th:only-of-type {\n",
       "        vertical-align: middle;\n",
       "    }\n",
       "\n",
       "    .dataframe tbody tr th {\n",
       "        vertical-align: top;\n",
       "    }\n",
       "\n",
       "    .dataframe thead th {\n",
       "        text-align: right;\n",
       "    }\n",
       "</style>\n",
       "<table border=\"1\" class=\"dataframe\">\n",
       "  <thead>\n",
       "    <tr style=\"text-align: right;\">\n",
       "      <th></th>\n",
       "      <th>Method</th>\n",
       "      <th>RMSE</th>\n",
       "      <th>MAPE</th>\n",
       "    </tr>\n",
       "  </thead>\n",
       "  <tbody>\n",
       "    <tr>\n",
       "      <th>0</th>\n",
       "      <td>Simple average method</td>\n",
       "      <td>815.58</td>\n",
       "      <td>50.27</td>\n",
       "    </tr>\n",
       "  </tbody>\n",
       "</table>\n",
       "</div>"
      ],
      "text/plain": [
       "                  Method    RMSE   MAPE\n",
       "0  Simple average method  815.58  50.27"
      ]
     },
     "execution_count": 25,
     "metadata": {},
     "output_type": "execute_result"
    }
   ],
   "source": [
    "# Calculate RMSE and MAPE\n",
    "rmse = np.sqrt(mean_squared_error(test['Price'], y_hat_avg['avg_forecast'])).round(2)\n",
    "mape = np.round(np.mean(np.abs(test['Price']-y_hat_avg['avg_forecast'])/test['Price'])*100,2)\n",
    "\n",
    "tempResults = pd.DataFrame({'Method':['Simple average method'], 'RMSE': [rmse],'MAPE': [mape] })\n",
    "#results = pd.concat([results, tempResults])\n",
    "#results = results[['Method', 'RMSE', 'MAPE']]\n",
    "#results\n",
    "tempResults"
   ]
  },
  {
   "cell_type": "code",
   "execution_count": 26,
   "id": "972de45a",
   "metadata": {
    "execution": {
     "iopub.execute_input": "2022-02-10T05:47:10.026013Z",
     "iopub.status.busy": "2022-02-10T05:47:10.024825Z",
     "iopub.status.idle": "2022-02-10T05:47:10.037504Z",
     "shell.execute_reply": "2022-02-10T05:47:10.038059Z",
     "shell.execute_reply.started": "2022-02-10T05:32:12.113717Z"
    },
    "papermill": {
     "duration": 0.073644,
     "end_time": "2022-02-10T05:47:10.038272",
     "exception": false,
     "start_time": "2022-02-10T05:47:09.964628",
     "status": "completed"
    },
    "tags": []
   },
   "outputs": [],
   "source": [
    "# 4.3. Simple Moving Average Method\n",
    "y_hat_sma = data.copy()\n",
    "ma_window = 12\n",
    "y_hat_sma['sma_forecast'] = data['Price'].rolling(ma_window).mean()\n",
    "y_hat_sma['sma_forecast'][train_len:] = y_hat_sma['sma_forecast'][train_len-1]"
   ]
  },
  {
   "cell_type": "code",
   "execution_count": 27,
   "id": "a3f417e9",
   "metadata": {
    "execution": {
     "iopub.execute_input": "2022-02-10T05:47:10.155907Z",
     "iopub.status.busy": "2022-02-10T05:47:10.154857Z",
     "iopub.status.idle": "2022-02-10T05:47:10.464132Z",
     "shell.execute_reply": "2022-02-10T05:47:10.464683Z",
     "shell.execute_reply.started": "2022-02-10T05:32:20.882052Z"
    },
    "papermill": {
     "duration": 0.369775,
     "end_time": "2022-02-10T05:47:10.464887",
     "exception": false,
     "start_time": "2022-02-10T05:47:10.095112",
     "status": "completed"
    },
    "tags": []
   },
   "outputs": [
    {
     "data": {
      "image/png": "[encoded data removed]",
      "text/plain": [
       "<Figure size 864x288 with 1 Axes>"
      ]
     },
     "metadata": {
      "needs_background": "light"
     },
     "output_type": "display_data"
    }
   ],
   "source": [
    "# Plotting\n",
    "plt.figure(figsize=(12,4))\n",
    "plt.plot(train['Price'], label='Train')\n",
    "plt.plot(test['Price'], label='Test')\n",
    "plt.plot(y_hat_sma['sma_forecast'][train_len:], label='Simple moving average forecast')\n",
    "plt.legend(loc='best')\n",
    "plt.title('Simple Moving Average Method')\n",
    "plt.show()"
   ]
  },
  {
   "cell_type": "code",
   "execution_count": 28,
   "id": "e0c7bfd8",
   "metadata": {
    "execution": {
     "iopub.execute_input": "2022-02-10T05:47:10.600840Z",
     "iopub.status.busy": "2022-02-10T05:47:10.599851Z",
     "iopub.status.idle": "2022-02-10T05:47:10.603445Z",
     "shell.execute_reply": "2022-02-10T05:47:10.603976Z",
     "shell.execute_reply.started": "2022-02-10T05:32:33.242702Z"
    },
    "papermill": {
     "duration": 0.081849,
     "end_time": "2022-02-10T05:47:10.604170",
     "exception": false,
     "start_time": "2022-02-10T05:47:10.522321",
     "status": "completed"
    },
    "tags": []
   },
   "outputs": [
    {
     "data": {
      "text/html": [
       "<div>\n",
       "<style scoped>\n",
       "    .dataframe tbody tr th:only-of-type {\n",
       "        vertical-align: middle;\n",
       "    }\n",
       "\n",
       "    .dataframe tbody tr th {\n",
       "        vertical-align: top;\n",
       "    }\n",
       "\n",
       "    .dataframe thead th {\n",
       "        text-align: right;\n",
       "    }\n",
       "</style>\n",
       "<table border=\"1\" class=\"dataframe\">\n",
       "  <thead>\n",
       "    <tr style=\"text-align: right;\">\n",
       "      <th></th>\n",
       "      <th>Method</th>\n",
       "      <th>RMSE</th>\n",
       "      <th>MAPE</th>\n",
       "    </tr>\n",
       "  </thead>\n",
       "  <tbody>\n",
       "    <tr>\n",
       "      <th>0</th>\n",
       "      <td>Simple moving average forecast</td>\n",
       "      <td>261.81</td>\n",
       "      <td>11.36</td>\n",
       "    </tr>\n",
       "  </tbody>\n",
       "</table>\n",
       "</div>"
      ],
      "text/plain": [
       "                           Method    RMSE   MAPE\n",
       "0  Simple moving average forecast  261.81  11.36"
      ]
     },
     "execution_count": 28,
     "metadata": {},
     "output_type": "execute_result"
    }
   ],
   "source": [
    "# Calculate RMSE and MAPE\n",
    "rmse = np.sqrt(mean_squared_error(test['Price'], y_hat_sma['sma_forecast'][train_len:])).round(2)\n",
    "mape = np.round(np.mean(np.abs(test['Price']-y_hat_sma['sma_forecast'][train_len:])/test['Price'])*100,2)\n",
    "\n",
    "tempResults = pd.DataFrame({'Method':['Simple moving average forecast'], 'RMSE': [rmse],'MAPE': [mape] })\n",
    "#results = pd.concat([results, tempResults])\n",
    "#results = results[['Method', 'RMSE', 'MAPE']]\n",
    "#results\n",
    "tempResults"
   ]
  },
  {
   "cell_type": "code",
   "execution_count": 29,
   "id": "a84af7ba",
   "metadata": {
    "execution": {
     "iopub.execute_input": "2022-02-10T05:47:10.728456Z",
     "iopub.status.busy": "2022-02-10T05:47:10.727533Z",
     "iopub.status.idle": "2022-02-10T05:47:11.228203Z",
     "shell.execute_reply": "2022-02-10T05:47:11.228769Z",
     "shell.execute_reply.started": "2022-02-10T05:32:58.181818Z"
    },
    "papermill": {
     "duration": 0.566523,
     "end_time": "2022-02-10T05:47:11.228968",
     "exception": false,
     "start_time": "2022-02-10T05:47:10.662445",
     "status": "completed"
    },
    "tags": []
   },
   "outputs": [
    {
     "data": {
      "text/plain": [
       "{'smoothing_level': 0.9005947124699694,\n",
       " 'smoothing_trend': 0.00021953082349370328,\n",
       " 'smoothing_seasonal': nan,\n",
       " 'damping_trend': nan,\n",
       " 'initial_level': 375.1800943796563,\n",
       " 'initial_trend': 0.03814832040810556,\n",
       " 'initial_seasons': array([], dtype=float64),\n",
       " 'use_boxcox': False,\n",
       " 'lamda': None,\n",
       " 'remove_bias': False}"
      ]
     },
     "execution_count": 29,
     "metadata": {},
     "output_type": "execute_result"
    }
   ],
   "source": [
    "# 4.4. Holt's Method with Trend\n",
    "from statsmodels.tsa.holtwinters import ExponentialSmoothing\n",
    "\n",
    "model = ExponentialSmoothing(np.asarray(train['Price']) ,seasonal_periods=12 ,trend='additive', seasonal=None)\n",
    "model_fit = model.fit(optimized=True)\n",
    "model_fit.params"
   ]
  },
  {
   "cell_type": "code",
   "execution_count": 30,
   "id": "ee408224",
   "metadata": {
    "execution": {
     "iopub.execute_input": "2022-02-10T05:47:11.351572Z",
     "iopub.status.busy": "2022-02-10T05:47:11.350345Z",
     "iopub.status.idle": "2022-02-10T05:47:11.457227Z",
     "shell.execute_reply": "2022-02-10T05:47:11.457794Z",
     "shell.execute_reply.started": "2022-02-10T05:33:10.733412Z"
    },
    "papermill": {
     "duration": 0.170016,
     "end_time": "2022-02-10T05:47:11.458033",
     "exception": false,
     "start_time": "2022-02-10T05:47:11.288017",
     "status": "completed"
    },
    "tags": []
   },
   "outputs": [],
   "source": [
    "y_hat_holt = test.copy()\n",
    "y_hat_holt['holt_forecast'] = model_fit.forecast(len(test))"
   ]
  },
  {
   "cell_type": "code",
   "execution_count": 31,
   "id": "868c3d65",
   "metadata": {
    "execution": {
     "iopub.execute_input": "2022-02-10T05:47:11.594418Z",
     "iopub.status.busy": "2022-02-10T05:47:11.592857Z",
     "iopub.status.idle": "2022-02-10T05:47:11.927807Z",
     "shell.execute_reply": "2022-02-10T05:47:11.927205Z",
     "shell.execute_reply.started": "2022-02-10T05:33:18.792862Z"
    },
    "papermill": {
     "duration": 0.411134,
     "end_time": "2022-02-10T05:47:11.927978",
     "exception": false,
     "start_time": "2022-02-10T05:47:11.516844",
     "status": "completed"
    },
    "tags": []
   },
   "outputs": [
    {
     "data": {
      "image/png": "[encoded data removed]",
      "text/plain": [
       "<Figure size 864x288 with 1 Axes>"
      ]
     },
     "metadata": {
      "needs_background": "light"
     },
     "output_type": "display_data"
    }
   ],
   "source": [
    "# Plotting\n",
    "plt.figure(figsize=(12,4))\n",
    "plt.plot( train['Price'], label='Train')\n",
    "plt.plot(test['Price'], label='Test')\n",
    "plt.plot(y_hat_holt['holt_forecast'], label='Holt\\'s exponential smoothing forecast')\n",
    "plt.legend(loc='best')\n",
    "plt.title('Holt\\'s Exponential Smoothing Method')\n",
    "plt.show()"
   ]
  },
  {
   "cell_type": "code",
   "execution_count": 32,
   "id": "9095089f",
   "metadata": {
    "execution": {
     "iopub.execute_input": "2022-02-10T05:47:12.053297Z",
     "iopub.status.busy": "2022-02-10T05:47:12.052172Z",
     "iopub.status.idle": "2022-02-10T05:47:12.069303Z",
     "shell.execute_reply": "2022-02-10T05:47:12.070158Z",
     "shell.execute_reply.started": "2022-02-10T05:33:53.243826Z"
    },
    "papermill": {
     "duration": 0.082353,
     "end_time": "2022-02-10T05:47:12.070427",
     "exception": false,
     "start_time": "2022-02-10T05:47:11.988074",
     "status": "completed"
    },
    "tags": []
   },
   "outputs": [
    {
     "data": {
      "text/html": [
       "<div>\n",
       "<style scoped>\n",
       "    .dataframe tbody tr th:only-of-type {\n",
       "        vertical-align: middle;\n",
       "    }\n",
       "\n",
       "    .dataframe tbody tr th {\n",
       "        vertical-align: top;\n",
       "    }\n",
       "\n",
       "    .dataframe thead th {\n",
       "        text-align: right;\n",
       "    }\n",
       "</style>\n",
       "<table border=\"1\" class=\"dataframe\">\n",
       "  <thead>\n",
       "    <tr style=\"text-align: right;\">\n",
       "      <th></th>\n",
       "      <th>Method</th>\n",
       "      <th>RMSE</th>\n",
       "      <th>MAPE</th>\n",
       "    </tr>\n",
       "  </thead>\n",
       "  <tbody>\n",
       "    <tr>\n",
       "      <th>0</th>\n",
       "      <td>Holt's exponential smoothing method</td>\n",
       "      <td>171.47</td>\n",
       "      <td>9.12</td>\n",
       "    </tr>\n",
       "  </tbody>\n",
       "</table>\n",
       "</div>"
      ],
      "text/plain": [
       "                                Method    RMSE  MAPE\n",
       "0  Holt's exponential smoothing method  171.47  9.12"
      ]
     },
     "execution_count": 32,
     "metadata": {},
     "output_type": "execute_result"
    }
   ],
   "source": [
    "# Calculate RSME and MAPE\n",
    "rmse = np.sqrt(mean_squared_error(test['Price'], y_hat_holt['holt_forecast'])).round(2)\n",
    "mape = np.round(np.mean(np.abs(test['Price']-y_hat_holt['holt_forecast'])/test['Price'])*100,2)\n",
    "\n",
    "tempResults = pd.DataFrame({'Method':['Holt\\'s exponential smoothing method'], 'RMSE': [rmse],'MAPE': [mape] })\n",
    "#results = pd.concat([results, tempResults])\n",
    "#results = results[['Method', 'RMSE', 'MAPE']]\n",
    "#results\n",
    "tempResults"
   ]
  },
  {
   "cell_type": "code",
   "execution_count": 33,
   "id": "5c315198",
   "metadata": {
    "execution": {
     "iopub.execute_input": "2022-02-10T05:47:12.196222Z",
     "iopub.status.busy": "2022-02-10T05:47:12.195147Z",
     "iopub.status.idle": "2022-02-10T05:47:13.666050Z",
     "shell.execute_reply": "2022-02-10T05:47:13.666652Z",
     "shell.execute_reply.started": "2022-02-10T05:34:14.123094Z"
    },
    "papermill": {
     "duration": 1.535723,
     "end_time": "2022-02-10T05:47:13.666989",
     "exception": false,
     "start_time": "2022-02-10T05:47:12.131266",
     "status": "completed"
    },
    "tags": []
   },
   "outputs": [
    {
     "data": {
      "text/plain": [
       "{'smoothing_level': 0.8898319212669137,\n",
       " 'smoothing_trend': 0.00025227924395252474,\n",
       " 'smoothing_seasonal': 0.012141866091698346,\n",
       " 'damping_trend': nan,\n",
       " 'initial_level': 377.4490265006313,\n",
       " 'initial_trend': 0.12824525629089312,\n",
       " 'initial_seasons': array([-0.30444412, -0.570524  , -0.55757984, -0.33944116,  0.11655776,\n",
       "         0.17820836, -0.03202382,  0.32479722,  0.34642419,  0.47041154,\n",
       "         0.26026929,  0.08281927]),\n",
       " 'use_boxcox': False,\n",
       " 'lamda': None,\n",
       " 'remove_bias': False}"
      ]
     },
     "execution_count": 33,
     "metadata": {},
     "output_type": "execute_result"
    }
   ],
   "source": [
    "# 4.5. Holt Winters' additive method with trend and seasonality\n",
    "y_hat_hwa = test.copy()\n",
    "model = ExponentialSmoothing(np.asarray(train['Price']), seasonal_periods=12 ,trend='add', seasonal='add')\n",
    "model_fit = model.fit(optimized=True)\n",
    "model_fit.params"
   ]
  },
  {
   "cell_type": "code",
   "execution_count": 34,
   "id": "54950081",
   "metadata": {
    "execution": {
     "iopub.execute_input": "2022-02-10T05:47:13.796959Z",
     "iopub.status.busy": "2022-02-10T05:47:13.795772Z",
     "iopub.status.idle": "2022-02-10T05:47:13.958666Z",
     "shell.execute_reply": "2022-02-10T05:47:13.959346Z",
     "shell.execute_reply.started": "2022-02-10T05:34:31.755002Z"
    },
    "papermill": {
     "duration": 0.231037,
     "end_time": "2022-02-10T05:47:13.959588",
     "exception": false,
     "start_time": "2022-02-10T05:47:13.728551",
     "status": "completed"
    },
    "tags": []
   },
   "outputs": [],
   "source": [
    "y_hat_hwa['hw_forecast'] = model_fit.forecast(test.shape[0])"
   ]
  },
  {
   "cell_type": "code",
   "execution_count": 35,
   "id": "364f4f06",
   "metadata": {
    "execution": {
     "iopub.execute_input": "2022-02-10T05:47:14.087840Z",
     "iopub.status.busy": "2022-02-10T05:47:14.086713Z",
     "iopub.status.idle": "2022-02-10T05:47:14.581123Z",
     "shell.execute_reply": "2022-02-10T05:47:14.581689Z",
     "shell.execute_reply.started": "2022-02-10T05:34:39.773379Z"
    },
    "papermill": {
     "duration": 0.561247,
     "end_time": "2022-02-10T05:47:14.581895",
     "exception": false,
     "start_time": "2022-02-10T05:47:14.020648",
     "status": "completed"
    },
    "tags": []
   },
   "outputs": [
    {
     "data": {
      "image/png": "[encoded data removed]",
      "text/plain": [
       "<Figure size 864x288 with 1 Axes>"
      ]
     },
     "metadata": {
      "needs_background": "light"
     },
     "output_type": "display_data"
    }
   ],
   "source": [
    "# Plotting\n",
    "plt.figure(figsize=(12,4))\n",
    "plt.plot( train['Price'], label='Train')\n",
    "plt.plot(test['Price'], label='Test')\n",
    "plt.plot(y_hat_hwa['hw_forecast'], label='Holt Winters\\'s additive forecast')\n",
    "plt.legend(loc='best')\n",
    "plt.title('Holt Winters\\' Additive Method')\n",
    "plt.show()"
   ]
  },
  {
   "cell_type": "code",
   "execution_count": 36,
   "id": "7aac954e",
   "metadata": {
    "execution": {
     "iopub.execute_input": "2022-02-10T05:47:14.725899Z",
     "iopub.status.busy": "2022-02-10T05:47:14.724741Z",
     "iopub.status.idle": "2022-02-10T05:47:14.742188Z",
     "shell.execute_reply": "2022-02-10T05:47:14.742885Z",
     "shell.execute_reply.started": "2022-02-10T05:34:49.083444Z"
    },
    "papermill": {
     "duration": 0.096547,
     "end_time": "2022-02-10T05:47:14.743094",
     "exception": false,
     "start_time": "2022-02-10T05:47:14.646547",
     "status": "completed"
    },
    "tags": []
   },
   "outputs": [
    {
     "data": {
      "text/html": [
       "<div>\n",
       "<style scoped>\n",
       "    .dataframe tbody tr th:only-of-type {\n",
       "        vertical-align: middle;\n",
       "    }\n",
       "\n",
       "    .dataframe tbody tr th {\n",
       "        vertical-align: top;\n",
       "    }\n",
       "\n",
       "    .dataframe thead th {\n",
       "        text-align: right;\n",
       "    }\n",
       "</style>\n",
       "<table border=\"1\" class=\"dataframe\">\n",
       "  <thead>\n",
       "    <tr style=\"text-align: right;\">\n",
       "      <th></th>\n",
       "      <th>Method</th>\n",
       "      <th>RMSE</th>\n",
       "      <th>MAPE</th>\n",
       "    </tr>\n",
       "  </thead>\n",
       "  <tbody>\n",
       "    <tr>\n",
       "      <th>0</th>\n",
       "      <td>Holt Winters' additive method</td>\n",
       "      <td>164.77</td>\n",
       "      <td>9.06</td>\n",
       "    </tr>\n",
       "  </tbody>\n",
       "</table>\n",
       "</div>"
      ],
      "text/plain": [
       "                          Method    RMSE  MAPE\n",
       "0  Holt Winters' additive method  164.77  9.06"
      ]
     },
     "execution_count": 36,
     "metadata": {},
     "output_type": "execute_result"
    }
   ],
   "source": [
    "# Calculate RMSE and MAPE\n",
    "rmse = np.sqrt(mean_squared_error(test['Price'], y_hat_hwa['hw_forecast'])).round(2)\n",
    "mape = np.round(np.mean(np.abs(test['Price']-y_hat_hwa['hw_forecast'])/test['Price'])*100,2)\n",
    "\n",
    "tempResults = pd.DataFrame({'Method':['Holt Winters\\' additive method'], 'RMSE': [rmse],'MAPE': [mape] })\n",
    "#results = pd.concat([results, tempResults])\n",
    "#results = results[['Method', 'RMSE', 'MAPE']]\n",
    "#results\n",
    "tempResults"
   ]
  },
  {
   "cell_type": "code",
   "execution_count": 37,
   "id": "547bf6d0",
   "metadata": {
    "execution": {
     "iopub.execute_input": "2022-02-10T05:47:14.881243Z",
     "iopub.status.busy": "2022-02-10T05:47:14.880091Z",
     "iopub.status.idle": "2022-02-10T05:47:17.026090Z",
     "shell.execute_reply": "2022-02-10T05:47:17.026673Z",
     "shell.execute_reply.started": "2022-02-10T05:35:15.841648Z"
    },
    "papermill": {
     "duration": 2.214138,
     "end_time": "2022-02-10T05:47:17.026917",
     "exception": false,
     "start_time": "2022-02-10T05:47:14.812779",
     "status": "completed"
    },
    "tags": []
   },
   "outputs": [
    {
     "name": "stderr",
     "output_type": "stream",
     "text": [
      "/opt/conda/lib/python3.7/site-packages/statsmodels/tsa/holtwinters/model.py:917: ConvergenceWarning: Optimization failed to converge. Check mle_retvals.\n",
      "  ConvergenceWarning,\n"
     ]
    },
    {
     "name": "stdout",
     "output_type": "stream",
     "text": [
      "{'smoothing_level': nan, 'smoothing_trend': nan, 'smoothing_seasonal': nan, 'damping_trend': nan, 'initial_level': nan, 'initial_trend': nan, 'initial_seasons': array([nan, nan, nan, nan, nan, nan, nan, nan, nan, nan, nan, nan]), 'use_boxcox': False, 'lamda': None, 'remove_bias': False}\n"
     ]
    }
   ],
   "source": [
    "# 4.6. Holt Winter's multiplicative method with trend and seasonality\n",
    "y_hat_hwm = test.copy()\n",
    "model = ExponentialSmoothing(np.asarray(train['Price']) ,seasonal_periods=12 ,trend='add', seasonal='mul')\n",
    "model_fit = model.fit(optimized=True)\n",
    "print(model_fit.params)\n",
    "y_hat_hwm['hw_forecast'] = model_fit.forecast(test.shape[0])"
   ]
  },
  {
   "cell_type": "code",
   "execution_count": 38,
   "id": "6e4e4041",
   "metadata": {
    "execution": {
     "iopub.execute_input": "2022-02-10T05:47:17.162422Z",
     "iopub.status.busy": "2022-02-10T05:47:17.161112Z",
     "iopub.status.idle": "2022-02-10T05:47:17.471797Z",
     "shell.execute_reply": "2022-02-10T05:47:17.471142Z",
     "shell.execute_reply.started": "2022-02-10T05:35:29.243368Z"
    },
    "papermill": {
     "duration": 0.381472,
     "end_time": "2022-02-10T05:47:17.471964",
     "exception": false,
     "start_time": "2022-02-10T05:47:17.090492",
     "status": "completed"
    },
    "tags": []
   },
   "outputs": [
    {
     "data": {
      "image/png": "[encoded data removed]",
      "text/plain": [
       "<Figure size 864x288 with 1 Axes>"
      ]
     },
     "metadata": {
      "needs_background": "light"
     },
     "output_type": "display_data"
    }
   ],
   "source": [
    "# Plotting\n",
    "plt.figure(figsize=(12,4))\n",
    "plt.plot( train['Price'], label='Train')\n",
    "plt.plot(test['Price'], label='Test')\n",
    "plt.plot(y_hat_hwm['hw_forecast'], label='Holt Winters\\'s mulitplicative forecast')\n",
    "plt.legend(loc = 'best')\n",
    "plt.title('Holt Winters\\' Mulitplicative Method')\n",
    "plt.show()"
   ]
  },
  {
   "cell_type": "code",
   "execution_count": 39,
   "id": "d9169ae3",
   "metadata": {
    "execution": {
     "iopub.execute_input": "2022-02-10T05:47:17.611927Z",
     "iopub.status.busy": "2022-02-10T05:47:17.608675Z",
     "iopub.status.idle": "2022-02-10T05:47:18.702526Z",
     "shell.execute_reply": "2022-02-10T05:47:18.703903Z",
     "shell.execute_reply.started": "2022-02-10T05:36:53.331507Z"
    },
    "papermill": {
     "duration": 1.164734,
     "end_time": "2022-02-10T05:47:18.704358",
     "exception": false,
     "start_time": "2022-02-10T05:47:17.539624",
     "status": "completed"
    },
    "tags": []
   },
   "outputs": [
    {
     "name": "stdout",
     "output_type": "stream",
     "text": [
      "ADF Statistic: -0.206908\n",
      "Ceitical Value @ 0.05: -2.86\n",
      "p-value: 0.937693\n"
     ]
    }
   ],
   "source": [
    "# Augmented Dickey-Fuller (ADF) test\n",
    "from statsmodels.tsa.stattools import adfuller\n",
    "adf_test = adfuller(data['Price'])\n",
    "\n",
    "print('ADF Statistic: %f' % adf_test[0])\n",
    "print('Ceitical Value @ 0.05: %.2f' % adf_test[4]['5%'])\n",
    "print('p-value: %f' % adf_test[1])"
   ]
  },
  {
   "cell_type": "code",
   "execution_count": 40,
   "id": "ba964bae",
   "metadata": {
    "execution": {
     "iopub.execute_input": "2022-02-10T05:47:18.898278Z",
     "iopub.status.busy": "2022-02-10T05:47:18.897499Z",
     "iopub.status.idle": "2022-02-10T05:47:19.173372Z",
     "shell.execute_reply": "2022-02-10T05:47:19.174008Z",
     "shell.execute_reply.started": "2022-02-10T05:37:16.523514Z"
    },
    "papermill": {
     "duration": 0.351498,
     "end_time": "2022-02-10T05:47:19.174251",
     "exception": false,
     "start_time": "2022-02-10T05:47:18.822753",
     "status": "completed"
    },
    "tags": []
   },
   "outputs": [
    {
     "data": {
      "image/png": "[encoded data removed]",
      "text/plain": [
       "<Figure size 864x288 with 1 Axes>"
      ]
     },
     "metadata": {
      "needs_background": "light"
     },
     "output_type": "display_data"
    }
   ],
   "source": [
    "# Box Cox transformation to make variance constant\n",
    "from scipy.stats import boxcox\n",
    "data_boxcox = pd.Series(boxcox(data['Price'], lmbda = 0), index = data.index)\n",
    "plt.figure(figsize = (12, 4))\n",
    "plt.plot(data_boxcox, label = 'After Box Cox Transformation')\n",
    "plt.legend(loc = 'best')\n",
    "plt.title('After Box Cox Transformation')\n",
    "plt.show()"
   ]
  },
  {
   "cell_type": "code",
   "execution_count": 41,
   "id": "7b788431",
   "metadata": {
    "execution": {
     "iopub.execute_input": "2022-02-10T05:47:19.318842Z",
     "iopub.status.busy": "2022-02-10T05:47:19.317689Z",
     "iopub.status.idle": "2022-02-10T05:47:19.618523Z",
     "shell.execute_reply": "2022-02-10T05:47:19.619114Z",
     "shell.execute_reply.started": "2022-02-10T05:37:39.572832Z"
    },
    "papermill": {
     "duration": 0.375439,
     "end_time": "2022-02-10T05:47:19.619315",
     "exception": false,
     "start_time": "2022-02-10T05:47:19.243876",
     "status": "completed"
    },
    "tags": []
   },
   "outputs": [
    {
     "data": {
      "image/png": "[encoded data removed]",
      "text/plain": [
       "<Figure size 864x288 with 1 Axes>"
      ]
     },
     "metadata": {
      "needs_background": "light"
     },
     "output_type": "display_data"
    }
   ],
   "source": [
    "# Differencing to Remove Trend\n",
    "data_boxcox_diff = pd.Series(data['Price'] - data['Price'].shift(2), data.index)\n",
    "plt.figure(figsize = (12, 4))\n",
    "plt.plot(data_boxcox_diff, label = 'After Box Cox Transformation and Differencing')\n",
    "plt.legend(loc = 'best')\n",
    "plt.title('After Box Cox transform and Differencing')\n",
    "plt.show()"
   ]
  },
  {
   "cell_type": "code",
   "execution_count": 42,
   "id": "096b0ad4",
   "metadata": {
    "execution": {
     "iopub.execute_input": "2022-02-10T05:47:19.759611Z",
     "iopub.status.busy": "2022-02-10T05:47:19.758852Z",
     "iopub.status.idle": "2022-02-10T05:47:19.763225Z",
     "shell.execute_reply": "2022-02-10T05:47:19.763738Z",
     "shell.execute_reply.started": "2022-02-10T05:37:52.65306Z"
    },
    "papermill": {
     "duration": 0.076998,
     "end_time": "2022-02-10T05:47:19.763964",
     "exception": false,
     "start_time": "2022-02-10T05:47:19.686966",
     "status": "completed"
    },
    "tags": []
   },
   "outputs": [],
   "source": [
    "data_boxcox_diff.dropna(inplace = True)"
   ]
  },
  {
   "cell_type": "code",
   "execution_count": 43,
   "id": "25e01728",
   "metadata": {
    "execution": {
     "iopub.execute_input": "2022-02-10T05:47:19.910433Z",
     "iopub.status.busy": "2022-02-10T05:47:19.906824Z",
     "iopub.status.idle": "2022-02-10T05:47:20.693346Z",
     "shell.execute_reply": "2022-02-10T05:47:20.694412Z",
     "shell.execute_reply.started": "2022-02-10T05:38:17.994028Z"
    },
    "papermill": {
     "duration": 0.861094,
     "end_time": "2022-02-10T05:47:20.694757",
     "exception": false,
     "start_time": "2022-02-10T05:47:19.833663",
     "status": "completed"
    },
    "tags": []
   },
   "outputs": [
    {
     "name": "stdout",
     "output_type": "stream",
     "text": [
      "ADF Statistic : -16.466994\n",
      "Critical Values @ 0.05: -2.86\n",
      "p-value: 0.000000\n"
     ]
    }
   ],
   "source": [
    "# Augmented Dickey-Fuller (ADF) test\n",
    "adf_test = adfuller(data_boxcox_diff)\n",
    "\n",
    "print('ADF Statistic : %f' % adf_test[0])\n",
    "print('Critical Values @ 0.05: %.2f' % adf_test[4]['5%'])\n",
    "print('p-value: %f' % adf_test[1])"
   ]
  },
  {
   "cell_type": "code",
   "execution_count": 44,
   "id": "8cd79f98",
   "metadata": {
    "execution": {
     "iopub.execute_input": "2022-02-10T05:47:20.892043Z",
     "iopub.status.busy": "2022-02-10T05:47:20.891288Z",
     "iopub.status.idle": "2022-02-10T05:47:21.085786Z",
     "shell.execute_reply": "2022-02-10T05:47:21.086375Z",
     "shell.execute_reply.started": "2022-02-10T05:38:41.20651Z"
    },
    "papermill": {
     "duration": 0.269706,
     "end_time": "2022-02-10T05:47:21.086610",
     "exception": false,
     "start_time": "2022-02-10T05:47:20.816904",
     "status": "completed"
    },
    "tags": []
   },
   "outputs": [
    {
     "data": {
      "image/png": "[encoded data removed]",
      "text/plain": [
       "<Figure size 864x288 with 1 Axes>"
      ]
     },
     "metadata": {
      "needs_background": "light"
     },
     "output_type": "display_data"
    }
   ],
   "source": [
    "# Autocorrelation Function(ACF)\n",
    "from statsmodels.graphics.tsaplots import plot_acf\n",
    "plt.figure(figsize = (12, 4))\n",
    "plot_acf(data_boxcox_diff, ax = plt.gca(), lags = 30)\n",
    "plt.show()"
   ]
  },
  {
   "cell_type": "code",
   "execution_count": 45,
   "id": "ee6e4e9c",
   "metadata": {
    "execution": {
     "iopub.execute_input": "2022-02-10T05:47:21.230057Z",
     "iopub.status.busy": "2022-02-10T05:47:21.229296Z",
     "iopub.status.idle": "2022-02-10T05:47:21.469705Z",
     "shell.execute_reply": "2022-02-10T05:47:21.468931Z",
     "shell.execute_reply.started": "2022-02-10T05:39:02.311765Z"
    },
    "papermill": {
     "duration": 0.313272,
     "end_time": "2022-02-10T05:47:21.469887",
     "exception": false,
     "start_time": "2022-02-10T05:47:21.156615",
     "status": "completed"
    },
    "tags": []
   },
   "outputs": [
    {
     "data": {
      "image/png": "[encoded data removed]",
      "text/plain": [
       "<Figure size 864x288 with 1 Axes>"
      ]
     },
     "metadata": {
      "needs_background": "light"
     },
     "output_type": "display_data"
    }
   ],
   "source": [
    "# Partial Autocorrelation Function(PACF)\n",
    "from statsmodels.graphics.tsaplots import plot_pacf\n",
    "plt.figure(figsize = (12, 4))\n",
    "plot_pacf(data_boxcox_diff, ax = plt.gca(), lags = 30)\n",
    "plt.show()"
   ]
  },
  {
   "cell_type": "code",
   "execution_count": 46,
   "id": "81e71133",
   "metadata": {
    "execution": {
     "iopub.execute_input": "2022-02-10T05:47:21.620108Z",
     "iopub.status.busy": "2022-02-10T05:47:21.619345Z",
     "iopub.status.idle": "2022-02-10T05:47:21.622144Z",
     "shell.execute_reply": "2022-02-10T05:47:21.621253Z",
     "shell.execute_reply.started": "2022-02-10T05:39:18.55304Z"
    },
    "papermill": {
     "duration": 0.080482,
     "end_time": "2022-02-10T05:47:21.622327",
     "exception": false,
     "start_time": "2022-02-10T05:47:21.541845",
     "status": "completed"
    },
    "tags": []
   },
   "outputs": [],
   "source": [
    "# Train-test split (after box-cox)\n",
    "\n",
    "train_data_boxcox = data_boxcox[:train_len]\n",
    "test_data_boxcox = data_boxcox[train_len:]"
   ]
  },
  {
   "cell_type": "code",
   "execution_count": 47,
   "id": "a5fc1fc8",
   "metadata": {
    "execution": {
     "iopub.execute_input": "2022-02-10T05:47:21.765667Z",
     "iopub.status.busy": "2022-02-10T05:47:21.764939Z",
     "iopub.status.idle": "2022-02-10T05:47:24.189352Z",
     "shell.execute_reply": "2022-02-10T05:47:24.188553Z",
     "shell.execute_reply.started": "2022-02-10T05:39:40.871054Z"
    },
    "papermill": {
     "duration": 2.497494,
     "end_time": "2022-02-10T05:47:24.189540",
     "exception": false,
     "start_time": "2022-02-10T05:47:21.692046",
     "status": "completed"
    },
    "tags": []
   },
   "outputs": [
    {
     "name": "stderr",
     "output_type": "stream",
     "text": [
      "/opt/conda/lib/python3.7/site-packages/statsmodels/tsa/base/tsa_model.py:539: ValueWarning: No frequency information was provided, so inferred frequency D will be used.\n",
      "  % freq, ValueWarning)\n",
      "/opt/conda/lib/python3.7/site-packages/statsmodels/tsa/base/tsa_model.py:539: ValueWarning: No frequency information was provided, so inferred frequency D will be used.\n",
      "  % freq, ValueWarning)\n",
      " This problem is unconstrained.\n"
     ]
    },
    {
     "name": "stdout",
     "output_type": "stream",
     "text": [
      "RUNNING THE L-BFGS-B CODE\n",
      "\n",
      "           * * *\n",
      "\n",
      "Machine precision = 2.220D-16\n",
      " N =            3     M =           10\n",
      "\n",
      "At X0         0 variables are exactly at the bounds\n",
      "\n",
      "At iterate    0    f= -3.07138D+00    |proj g|=  8.87229D+00\n",
      "\n",
      "At iterate    5    f= -3.07431D+00    |proj g|=  3.50773D-01\n",
      "\n",
      "At iterate   10    f= -3.07646D+00    |proj g|=  7.98590D+00\n",
      "\n",
      "At iterate   15    f= -3.09087D+00    |proj g|=  3.10800D-01\n",
      "\n",
      "At iterate   20    f= -3.09092D+00    |proj g|=  3.44054D-01\n",
      "\n",
      "At iterate   25    f= -3.09564D+00    |proj g|=  4.67372D+00\n",
      "\n",
      "At iterate   30    f= -3.13542D+00    |proj g|=  4.17381D+00\n",
      "\n",
      "At iterate   35    f= -3.14692D+00    |proj g|=  1.24292D+00\n",
      "\n",
      "At iterate   40    f= -3.14839D+00    |proj g|=  2.06881D-01\n",
      "\n",
      "At iterate   45    f= -3.14851D+00    |proj g|=  5.52259D-02\n",
      "\n",
      "At iterate   50    f= -3.14852D+00    |proj g|=  1.10451D-01\n",
      "\n",
      "           * * *\n",
      "\n",
      "Tit   = total number of iterations\n",
      "Tnf   = total number of function evaluations\n",
      "Tnint = total number of segments explored during Cauchy searches\n",
      "Skip  = number of BFGS updates skipped\n",
      "Nact  = number of active bounds at final generalized Cauchy point\n",
      "Projg = norm of the final projected gradient\n",
      "F     = final function value\n",
      "\n",
      "           * * *\n",
      "\n",
      "   N    Tit     Tnf  Tnint  Skip  Nact     Projg        F\n",
      "    3     50     55      1     0     0   1.105D-01  -3.149D+00\n",
      "  F =  -3.1485170679696419     \n",
      "\n",
      "STOP: TOTAL NO. of ITERATIONS REACHED LIMIT                 \n"
     ]
    },
    {
     "name": "stderr",
     "output_type": "stream",
     "text": [
      "/opt/conda/lib/python3.7/site-packages/statsmodels/base/model.py:606: ConvergenceWarning: Maximum Likelihood optimization failed to converge. Check mle_retvals\n",
      "  ConvergenceWarning)\n"
     ]
    }
   ],
   "source": [
    "# 4.7 . Auto Regressive Integrated Moving Average(ARIMA)\n",
    "from statsmodels.tsa.statespace.sarimax import SARIMAX\n",
    "model = SARIMAX(train_data_boxcox, order=(1, 2, 1), seasonal_order=(0, 0, 0, 0)) \n",
    "model_fit = model.fit()"
   ]
  },
  {
   "cell_type": "code",
   "execution_count": 48,
   "id": "22df2d47",
   "metadata": {
    "execution": {
     "iopub.execute_input": "2022-02-10T05:47:24.344914Z",
     "iopub.status.busy": "2022-02-10T05:47:24.343960Z",
     "iopub.status.idle": "2022-02-10T05:47:24.384035Z",
     "shell.execute_reply": "2022-02-10T05:47:24.384650Z",
     "shell.execute_reply.started": "2022-02-10T05:39:57.143309Z"
    },
    "papermill": {
     "duration": 0.118764,
     "end_time": "2022-02-10T05:47:24.384864",
     "exception": false,
     "start_time": "2022-02-10T05:47:24.266100",
     "status": "completed"
    },
    "tags": []
   },
   "outputs": [
    {
     "data": {
      "text/html": [
       "<table class=\"simpletable\">\n",
       "<caption>SARIMAX Results</caption>\n",
       "<tr>\n",
       "  <th>Dep. Variable:</th>           <td>y</td>        <th>  No. Observations:  </th>    <td>7890</td>   \n",
       "</tr>\n",
       "<tr>\n",
       "  <th>Model:</th>           <td>SARIMAX(1, 2, 1)</td> <th>  Log Likelihood     </th>  <td>24841.800</td>\n",
       "</tr>\n",
       "<tr>\n",
       "  <th>Date:</th>            <td>Thu, 10 Feb 2022</td> <th>  AIC                </th> <td>-49677.599</td>\n",
       "</tr>\n",
       "<tr>\n",
       "  <th>Time:</th>                <td>05:47:24</td>     <th>  BIC                </th> <td>-49656.680</td>\n",
       "</tr>\n",
       "<tr>\n",
       "  <th>Sample:</th>             <td>12-06-1994</td>    <th>  HQIC               </th> <td>-49670.434</td>\n",
       "</tr>\n",
       "<tr>\n",
       "  <th></th>                   <td>- 07-12-2016</td>   <th>                     </th>      <td> </td>    \n",
       "</tr>\n",
       "<tr>\n",
       "  <th>Covariance Type:</th>        <td>opg</td>       <th>                     </th>      <td> </td>    \n",
       "</tr>\n",
       "</table>\n",
       "<table class=\"simpletable\">\n",
       "<tr>\n",
       "     <td></td>       <th>coef</th>     <th>std err</th>      <th>z</th>      <th>P>|z|</th>  <th>[0.025</th>    <th>0.975]</th>  \n",
       "</tr>\n",
       "<tr>\n",
       "  <th>ar.L1</th>  <td>   -0.0584</td> <td>    0.005</td> <td>  -11.944</td> <td> 0.000</td> <td>   -0.068</td> <td>   -0.049</td>\n",
       "</tr>\n",
       "<tr>\n",
       "  <th>ma.L1</th>  <td>   -0.9999</td> <td>    0.022</td> <td>  -46.254</td> <td> 0.000</td> <td>   -1.042</td> <td>   -0.958</td>\n",
       "</tr>\n",
       "<tr>\n",
       "  <th>sigma2</th> <td>    0.0001</td> <td> 2.33e-06</td> <td>   46.204</td> <td> 0.000</td> <td>    0.000</td> <td>    0.000</td>\n",
       "</tr>\n",
       "</table>\n",
       "<table class=\"simpletable\">\n",
       "<tr>\n",
       "  <th>Ljung-Box (L1) (Q):</th>     <td>0.08</td> <th>  Jarque-Bera (JB):  </th> <td>234988.61</td>\n",
       "</tr>\n",
       "<tr>\n",
       "  <th>Prob(Q):</th>                <td>0.78</td> <th>  Prob(JB):          </th>   <td>0.00</td>   \n",
       "</tr>\n",
       "<tr>\n",
       "  <th>Heteroskedasticity (H):</th> <td>3.67</td> <th>  Skew:              </th>   <td>-0.03</td>  \n",
       "</tr>\n",
       "<tr>\n",
       "  <th>Prob(H) (two-sided):</th>    <td>0.00</td> <th>  Kurtosis:          </th>   <td>29.74</td>  \n",
       "</tr>\n",
       "</table><br/><br/>Warnings:<br/>[1] Covariance matrix calculated using the outer product of gradients (complex-step)."
      ],
      "text/plain": [
       "<class 'statsmodels.iolib.summary.Summary'>\n",
       "\"\"\"\n",
       "                               SARIMAX Results                                \n",
       "==============================================================================\n",
       "Dep. Variable:                      y   No. Observations:                 7890\n",
       "Model:               SARIMAX(1, 2, 1)   Log Likelihood               24841.800\n",
       "Date:                Thu, 10 Feb 2022   AIC                         -49677.599\n",
       "Time:                        05:47:24   BIC                         -49656.680\n",
       "Sample:                    12-06-1994   HQIC                        -49670.434\n",
       "                         - 07-12-2016                                         \n",
       "Covariance Type:                  opg                                         \n",
       "==============================================================================\n",
       "                 coef    std err          z      P>|z|      [0.025      0.975]\n",
       "------------------------------------------------------------------------------\n",
       "ar.L1         -0.0584      0.005    -11.944      0.000      -0.068      -0.049\n",
       "ma.L1         -0.9999      0.022    -46.254      0.000      -1.042      -0.958\n",
       "sigma2         0.0001   2.33e-06     46.204      0.000       0.000       0.000\n",
       "===================================================================================\n",
       "Ljung-Box (L1) (Q):                   0.08   Jarque-Bera (JB):            234988.61\n",
       "Prob(Q):                              0.78   Prob(JB):                         0.00\n",
       "Heteroskedasticity (H):               3.67   Skew:                            -0.03\n",
       "Prob(H) (two-sided):                  0.00   Kurtosis:                        29.74\n",
       "===================================================================================\n",
       "\n",
       "Warnings:\n",
       "[1] Covariance matrix calculated using the outer product of gradients (complex-step).\n",
       "\"\"\""
      ]
     },
     "execution_count": 48,
     "metadata": {},
     "output_type": "execute_result"
    }
   ],
   "source": [
    "model_fit.summary()"
   ]
  },
  {
   "cell_type": "code",
   "execution_count": 49,
   "id": "b12874af",
   "metadata": {
    "execution": {
     "iopub.execute_input": "2022-02-10T05:47:24.553157Z",
     "iopub.status.busy": "2022-02-10T05:47:24.552335Z",
     "iopub.status.idle": "2022-02-10T05:47:24.662093Z",
     "shell.execute_reply": "2022-02-10T05:47:24.662835Z",
     "shell.execute_reply.started": "2022-02-10T05:40:12.471068Z"
    },
    "papermill": {
     "duration": 0.196558,
     "end_time": "2022-02-10T05:47:24.663058",
     "exception": false,
     "start_time": "2022-02-10T05:47:24.466500",
     "status": "completed"
    },
    "tags": []
   },
   "outputs": [],
   "source": [
    "# Recover Original Series\n",
    "y_hat_arima = test_data_boxcox.copy()\n",
    "y_hat_arima['arima_forecast_boxcox'] = model_fit.predict(test_data_boxcox.index.min(), test_data_boxcox.index.max())\n",
    "y_hat_arima['arima_forecast'] = np.exp(y_hat_arima['arima_forecast_boxcox'])"
   ]
  },
  {
   "cell_type": "code",
   "execution_count": 50,
   "id": "41d5a6df",
   "metadata": {
    "execution": {
     "iopub.execute_input": "2022-02-10T05:47:24.831730Z",
     "iopub.status.busy": "2022-02-10T05:47:24.830561Z",
     "iopub.status.idle": "2022-02-10T05:47:25.143092Z",
     "shell.execute_reply": "2022-02-10T05:47:25.143765Z",
     "shell.execute_reply.started": "2022-02-10T05:40:22.263378Z"
    },
    "papermill": {
     "duration": 0.399483,
     "end_time": "2022-02-10T05:47:25.143994",
     "exception": false,
     "start_time": "2022-02-10T05:47:24.744511",
     "status": "completed"
    },
    "tags": []
   },
   "outputs": [
    {
     "data": {
      "image/png": "[encoded data removed]",
      "text/plain": [
       "<Figure size 864x288 with 1 Axes>"
      ]
     },
     "metadata": {
      "needs_background": "light"
     },
     "output_type": "display_data"
    }
   ],
   "source": [
    "# Plotting\n",
    "plt.figure(figsize=(12,4))\n",
    "plt.plot(train['Price'], label='Train')\n",
    "plt.plot(test['Price'], label='Test')\n",
    "plt.plot(y_hat_arima['arima_forecast'][test.index.min():], label='ARIMA forecast')\n",
    "plt.legend(loc='best')\n",
    "plt.title('Autoregressive integrated moving average (ARIMA) method')\n",
    "plt.show()"
   ]
  },
  {
   "cell_type": "code",
   "execution_count": 51,
   "id": "63f04a94",
   "metadata": {
    "execution": {
     "iopub.execute_input": "2022-02-10T05:47:25.318055Z",
     "iopub.status.busy": "2022-02-10T05:47:25.316880Z",
     "iopub.status.idle": "2022-02-10T05:47:25.329384Z",
     "shell.execute_reply": "2022-02-10T05:47:25.329971Z",
     "shell.execute_reply.started": "2022-02-10T05:40:34.905055Z"
    },
    "papermill": {
     "duration": 0.100587,
     "end_time": "2022-02-10T05:47:25.330171",
     "exception": false,
     "start_time": "2022-02-10T05:47:25.229584",
     "status": "completed"
    },
    "tags": []
   },
   "outputs": [
    {
     "data": {
      "text/html": [
       "<div>\n",
       "<style scoped>\n",
       "    .dataframe tbody tr th:only-of-type {\n",
       "        vertical-align: middle;\n",
       "    }\n",
       "\n",
       "    .dataframe tbody tr th {\n",
       "        vertical-align: top;\n",
       "    }\n",
       "\n",
       "    .dataframe thead th {\n",
       "        text-align: right;\n",
       "    }\n",
       "</style>\n",
       "<table border=\"1\" class=\"dataframe\">\n",
       "  <thead>\n",
       "    <tr style=\"text-align: right;\">\n",
       "      <th></th>\n",
       "      <th>Method</th>\n",
       "      <th>RMSE</th>\n",
       "      <th>MAPE</th>\n",
       "    </tr>\n",
       "  </thead>\n",
       "  <tbody>\n",
       "    <tr>\n",
       "      <th>0</th>\n",
       "      <td>Autoregressive integrated moving average (ARIM...</td>\n",
       "      <td>152.89</td>\n",
       "      <td>8.74</td>\n",
       "    </tr>\n",
       "  </tbody>\n",
       "</table>\n",
       "</div>"
      ],
      "text/plain": [
       "                                              Method    RMSE  MAPE\n",
       "0  Autoregressive integrated moving average (ARIM...  152.89  8.74"
      ]
     },
     "execution_count": 51,
     "metadata": {},
     "output_type": "execute_result"
    }
   ],
   "source": [
    "# Calculate RMSE and MAPE\n",
    "rmse = np.sqrt(mean_squared_error(test['Price'], y_hat_arima['arima_forecast'][test.index.min():])).round(2)\n",
    "mape = np.round(np.mean(np.abs(test['Price']-y_hat_arima['arima_forecast'][test.index.min():])/test['Price'])*100,2)\n",
    "\n",
    "tempResults = pd.DataFrame({'Method':['Autoregressive integrated moving average (ARIMA) method'], 'RMSE': [rmse],'MAPE': [mape] })\n",
    "#results = pd.concat([results, tempResults])\n",
    "#results = results[['Method', 'RMSE', 'MAPE']]\n",
    "#results\n",
    "tempResults"
   ]
  },
  {
   "cell_type": "code",
   "execution_count": 52,
   "id": "eeeb7c5c",
   "metadata": {
    "execution": {
     "iopub.execute_input": "2022-02-10T05:47:25.483801Z",
     "iopub.status.busy": "2022-02-10T05:47:25.482753Z",
     "iopub.status.idle": "2022-02-10T05:47:25.498635Z",
     "shell.execute_reply": "2022-02-10T05:47:25.497942Z",
     "shell.execute_reply.started": "2022-02-10T05:40:48.04388Z"
    },
    "papermill": {
     "duration": 0.094338,
     "end_time": "2022-02-10T05:47:25.498806",
     "exception": false,
     "start_time": "2022-02-10T05:47:25.404468",
     "status": "completed"
    },
    "tags": []
   },
   "outputs": [],
   "source": [
    "test_prediction = model_fit.forecast(150)"
   ]
  },
  {
   "cell_type": "code",
   "execution_count": 53,
   "id": "d49e23cc",
   "metadata": {
    "execution": {
     "iopub.execute_input": "2022-02-10T05:47:25.659300Z",
     "iopub.status.busy": "2022-02-10T05:47:25.653203Z",
     "iopub.status.idle": "2022-02-10T05:47:25.663507Z",
     "shell.execute_reply": "2022-02-10T05:47:25.662894Z",
     "shell.execute_reply.started": "2022-02-10T05:41:03.37372Z"
    },
    "papermill": {
     "duration": 0.089182,
     "end_time": "2022-02-10T05:47:25.663674",
     "exception": false,
     "start_time": "2022-02-10T05:47:25.574492",
     "status": "completed"
    },
    "tags": []
   },
   "outputs": [
    {
     "data": {
      "text/plain": [
       "2016-07-13    7.238551\n",
       "2016-07-14    7.238623\n",
       "2016-07-15    7.238749\n",
       "2016-07-16    7.238871\n",
       "2016-07-17    7.238994\n",
       "                ...   \n",
       "2016-12-05    7.256301\n",
       "2016-12-06    7.256424\n",
       "2016-12-07    7.256546\n",
       "2016-12-08    7.256669\n",
       "2016-12-09    7.256792\n",
       "Freq: D, Name: predicted_mean, Length: 150, dtype: float64"
      ]
     },
     "execution_count": 53,
     "metadata": {},
     "output_type": "execute_result"
    }
   ],
   "source": [
    "test_prediction"
   ]
  }
 ],
 "metadata": {
  "kernelspec": {
   "display_name": "Python 3",
   "language": "python",
   "name": "python3"
  },
  "language_info": {
   "codemirror_mode": {
    "name": "ipython",
    "version": 3
   },
   "file_extension": ".py",
   "mimetype": "text/x-python",
   "name": "python",
   "nbconvert_exporter": "python",
   "pygments_lexer": "ipython3",
   "version": "3.7.12"
  },
  "papermill": {
   "default_parameters": {},
   "duration": 35.701505,
   "end_time": "2022-02-10T05:47:26.855232",
   "environment_variables": {},
   "exception": null,
   "input_path": "__notebook__.ipynb",
   "output_path": "__notebook__.ipynb",
   "parameters": {},
   "start_time": "2022-02-10T05:46:51.153727",
   "version": "2.3.3"
  }
 },
 "nbformat": 4,
 "nbformat_minor": 5
}
